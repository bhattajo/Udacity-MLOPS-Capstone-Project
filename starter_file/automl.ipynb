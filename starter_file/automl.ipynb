{
  "cells": [
    {
      "cell_type": "markdown",
      "source": [
        "# Automated ML\n",
        "\n",
        "TODO: Import Dependencies. In the cell below, import all the dependencies that you will need to complete the project."
      ],
      "metadata": {}
    },
    {
      "cell_type": "code",
      "source": [
        "import logging\r\n",
        "import os\r\n",
        "import csv\r\n",
        "\r\n",
        "from matplotlib import pyplot as plt\r\n",
        "import numpy as np\r\n",
        "import pandas as pd\r\n",
        "from sklearn import datasets\r\n",
        "import pkg_resources\r\n",
        "\r\n",
        "import azureml.core\r\n",
        "from azureml.core.experiment import Experiment\r\n",
        "from azureml.core.workspace import Workspace\r\n",
        "from azureml.train.automl import AutoMLConfig\r\n",
        "from azureml.core.dataset import Dataset\r\n",
        "\r\n",
        "from azureml.pipeline.steps import AutoMLStep\r\n",
        "\r\n",
        "# Check core SDK version number\r\n",
        "print(\"SDK version:\", azureml.core.VERSION)"
      ],
      "outputs": [
        {
          "output_type": "stream",
          "name": "stdout",
          "text": "SDK version: 1.36.0\n"
        }
      ],
      "execution_count": 1,
      "metadata": {
        "gather": {
          "logged": 1641277098383
        },
        "jupyter": {
          "outputs_hidden": false,
          "source_hidden": false
        },
        "nteract": {
          "transient": {
            "deleting": false
          }
        }
      }
    },
    {
      "cell_type": "markdown",
      "source": [
        "## Dataset\n",
        "\n",
        "### Overview\n",
        "TODO: In this markdown cell, give an overview of the dataset you are using. Also mention the task you will be performing.\n",
        "\n",
        "**The DataSet is for bank personal loan and its a classification task. Will try to build a model and predict if a person will apply for a loan.**\n",
        "\n",
        "TODO: Get data. In the cell below, write code to access the data you will be using in this project. Remember that the dataset needs to be external."
      ],
      "metadata": {}
    },
    {
      "cell_type": "code",
      "source": [
        "ws = Workspace.from_config()\n",
        "\n",
        "# choose a name for experiment\n",
        "experiment_name = 'mlops-capstone-project'\n",
        "project_folder = './mlops-capstone-project-folder'\n",
        "\n",
        "experiment = Experiment(ws, experiment_name)\n",
        "experiment\n"
      ],
      "outputs": [
        {
          "output_type": "execute_result",
          "execution_count": 6,
          "data": {
            "text/plain": "Experiment(Name: mlops-capstone-project,\nWorkspace: MLOPS)",
            "text/html": "<table style=\"width:100%\"><tr><th>Name</th><th>Workspace</th><th>Report Page</th><th>Docs Page</th></tr><tr><td>mlops-capstone-project</td><td>MLOPS</td><td><a href=\"https://ml.azure.com/experiments/id/3ee70ced-8ba8-4997-8ffa-5b43d9e2e4ee?wsid=/subscriptions/1db20fb5-44d4-452c-9f69-3e242db6cb9e/resourcegroups/ml-resource-group/workspaces/MLOPS&amp;tid=482198bb-ae7b-4b25-8b7a-6d7f32faa083\" target=\"_blank\" rel=\"noopener\">Link to Azure Machine Learning studio</a></td><td><a href=\"https://docs.microsoft.com/en-us/python/api/azureml-core/azureml.core.experiment.Experiment?view=azure-ml-py\" target=\"_blank\" rel=\"noopener\">Link to Documentation</a></td></tr></table>"
          },
          "metadata": {}
        }
      ],
      "execution_count": 6,
      "metadata": {
        "gather": {
          "logged": 1641277945416
        },
        "jupyter": {
          "outputs_hidden": false,
          "source_hidden": false
        },
        "nteract": {
          "transient": {
            "deleting": false
          }
        }
      }
    },
    {
      "cell_type": "code",
      "source": [
        "from azureml.core.compute import AmlCompute\r\n",
        "from azureml.core.compute import ComputeTarget\r\n",
        "from azureml.core.compute_target import ComputeTargetException\r\n",
        "\r\n",
        "# NOTE: update the cluster name to match the existing cluster\r\n",
        "# Choose a name for your CPU cluster\r\n",
        "amlcompute_cluster_name = \"cluster-demo-1\"\r\n",
        "\r\n",
        "# Verify that cluster does not exist already\r\n",
        "try:\r\n",
        "    compute_target = ComputeTarget(workspace=ws, name=amlcompute_cluster_name)\r\n",
        "    print('Found existing cluster, use it.')\r\n",
        "except ComputeTargetException:\r\n",
        "    compute_config = AmlCompute.provisioning_configuration(vm_size='STANDARD_D2_V2',# for GPU, use \"STANDARD_NC6\"\r\n",
        "                                                           #vm_priority = 'lowpriority', # optional\r\n",
        "                                                           max_nodes=4)\r\n",
        "    compute_target = ComputeTarget.create(ws, amlcompute_cluster_name, compute_config)\r\n",
        "\r\n",
        "compute_target.wait_for_completion(show_output=True, min_node_count = 1, timeout_in_minutes = 10)\r\n",
        "# For a more detailed view of current AmlCompute status, use get_status()."
      ],
      "outputs": [
        {
          "output_type": "stream",
          "name": "stdout",
          "text": "Found existing cluster, use it.\nSucceeded....................................................................................................................\nAmlCompute wait for completion finished\n\nWait timeout has been reached\nCurrent provisioning state of AmlCompute is \"Succeeded\" and current node count is \"0\"\n"
        }
      ],
      "execution_count": 7,
      "metadata": {
        "jupyter": {
          "source_hidden": false,
          "outputs_hidden": false
        },
        "nteract": {
          "transient": {
            "deleting": false
          }
        },
        "gather": {
          "logged": 1641278773249
        }
      }
    },
    {
      "cell_type": "code",
      "source": [
        "found = False\r\n",
        "key = \"Bank_Loan\"\r\n",
        "description_text = \"Bank Personal Loan Dataset for Udacity capstone project\"\r\n",
        "\r\n",
        "if key in ws.datasets.keys(): \r\n",
        "        found = True\r\n",
        "        dataset = ws.datasets[key] \r\n",
        "\r\n",
        "if not found:\r\n",
        "    print('not found ... Please make sure its correct')\r\n",
        "        \r\n",
        "\r\n",
        "\r\n",
        "df = dataset.to_pandas_dataframe()\r\n",
        "df.describe()"
      ],
      "outputs": [
        {
          "output_type": "execute_result",
          "execution_count": 9,
          "data": {
            "text/plain": "                ID          Age   Experience       Income      ZIP Code  \\\ncount  5000.000000  5000.000000  5000.000000  5000.000000   5000.000000   \nmean   2500.500000    45.338400    20.104600    73.774200  93152.503000   \nstd    1443.520003    11.463166    11.467954    46.033729   2121.852197   \nmin       1.000000    23.000000    -3.000000     8.000000   9307.000000   \n25%    1250.750000    35.000000    10.000000    39.000000  91911.000000   \n50%    2500.500000    45.000000    20.000000    64.000000  93437.000000   \n75%    3750.250000    55.000000    30.000000    98.000000  94608.000000   \nmax    5000.000000    67.000000    43.000000   224.000000  96651.000000   \n\n            Family        CCAvg    Education     Mortgage  Personal Loan  \\\ncount  5000.000000  5000.000000  5000.000000  5000.000000    5000.000000   \nmean      2.396400     1.937938     1.881000    56.498800       0.096000   \nstd       1.147663     1.747659     0.839869   101.713802       0.294621   \nmin       1.000000     0.000000     1.000000     0.000000       0.000000   \n25%       1.000000     0.700000     1.000000     0.000000       0.000000   \n50%       2.000000     1.500000     2.000000     0.000000       0.000000   \n75%       3.000000     2.500000     3.000000   101.000000       0.000000   \nmax       4.000000    10.000000     3.000000   635.000000       1.000000   \n\n       Securities Account  CD Account       Online   CreditCard  \ncount         5000.000000  5000.00000  5000.000000  5000.000000  \nmean             0.104400     0.06040     0.596800     0.294000  \nstd              0.305809     0.23825     0.490589     0.455637  \nmin              0.000000     0.00000     0.000000     0.000000  \n25%              0.000000     0.00000     0.000000     0.000000  \n50%              0.000000     0.00000     1.000000     0.000000  \n75%              0.000000     0.00000     1.000000     1.000000  \nmax              1.000000     1.00000     1.000000     1.000000  ",
            "text/html": "<div>\n<style scoped>\n    .dataframe tbody tr th:only-of-type {\n        vertical-align: middle;\n    }\n\n    .dataframe tbody tr th {\n        vertical-align: top;\n    }\n\n    .dataframe thead th {\n        text-align: right;\n    }\n</style>\n<table border=\"1\" class=\"dataframe\">\n  <thead>\n    <tr style=\"text-align: right;\">\n      <th></th>\n      <th>ID</th>\n      <th>Age</th>\n      <th>Experience</th>\n      <th>Income</th>\n      <th>ZIP Code</th>\n      <th>Family</th>\n      <th>CCAvg</th>\n      <th>Education</th>\n      <th>Mortgage</th>\n      <th>Personal Loan</th>\n      <th>Securities Account</th>\n      <th>CD Account</th>\n      <th>Online</th>\n      <th>CreditCard</th>\n    </tr>\n  </thead>\n  <tbody>\n    <tr>\n      <th>count</th>\n      <td>5000.000000</td>\n      <td>5000.000000</td>\n      <td>5000.000000</td>\n      <td>5000.000000</td>\n      <td>5000.000000</td>\n      <td>5000.000000</td>\n      <td>5000.000000</td>\n      <td>5000.000000</td>\n      <td>5000.000000</td>\n      <td>5000.000000</td>\n      <td>5000.000000</td>\n      <td>5000.00000</td>\n      <td>5000.000000</td>\n      <td>5000.000000</td>\n    </tr>\n    <tr>\n      <th>mean</th>\n      <td>2500.500000</td>\n      <td>45.338400</td>\n      <td>20.104600</td>\n      <td>73.774200</td>\n      <td>93152.503000</td>\n      <td>2.396400</td>\n      <td>1.937938</td>\n      <td>1.881000</td>\n      <td>56.498800</td>\n      <td>0.096000</td>\n      <td>0.104400</td>\n      <td>0.06040</td>\n      <td>0.596800</td>\n      <td>0.294000</td>\n    </tr>\n    <tr>\n      <th>std</th>\n      <td>1443.520003</td>\n      <td>11.463166</td>\n      <td>11.467954</td>\n      <td>46.033729</td>\n      <td>2121.852197</td>\n      <td>1.147663</td>\n      <td>1.747659</td>\n      <td>0.839869</td>\n      <td>101.713802</td>\n      <td>0.294621</td>\n      <td>0.305809</td>\n      <td>0.23825</td>\n      <td>0.490589</td>\n      <td>0.455637</td>\n    </tr>\n    <tr>\n      <th>min</th>\n      <td>1.000000</td>\n      <td>23.000000</td>\n      <td>-3.000000</td>\n      <td>8.000000</td>\n      <td>9307.000000</td>\n      <td>1.000000</td>\n      <td>0.000000</td>\n      <td>1.000000</td>\n      <td>0.000000</td>\n      <td>0.000000</td>\n      <td>0.000000</td>\n      <td>0.00000</td>\n      <td>0.000000</td>\n      <td>0.000000</td>\n    </tr>\n    <tr>\n      <th>25%</th>\n      <td>1250.750000</td>\n      <td>35.000000</td>\n      <td>10.000000</td>\n      <td>39.000000</td>\n      <td>91911.000000</td>\n      <td>1.000000</td>\n      <td>0.700000</td>\n      <td>1.000000</td>\n      <td>0.000000</td>\n      <td>0.000000</td>\n      <td>0.000000</td>\n      <td>0.00000</td>\n      <td>0.000000</td>\n      <td>0.000000</td>\n    </tr>\n    <tr>\n      <th>50%</th>\n      <td>2500.500000</td>\n      <td>45.000000</td>\n      <td>20.000000</td>\n      <td>64.000000</td>\n      <td>93437.000000</td>\n      <td>2.000000</td>\n      <td>1.500000</td>\n      <td>2.000000</td>\n      <td>0.000000</td>\n      <td>0.000000</td>\n      <td>0.000000</td>\n      <td>0.00000</td>\n      <td>1.000000</td>\n      <td>0.000000</td>\n    </tr>\n    <tr>\n      <th>75%</th>\n      <td>3750.250000</td>\n      <td>55.000000</td>\n      <td>30.000000</td>\n      <td>98.000000</td>\n      <td>94608.000000</td>\n      <td>3.000000</td>\n      <td>2.500000</td>\n      <td>3.000000</td>\n      <td>101.000000</td>\n      <td>0.000000</td>\n      <td>0.000000</td>\n      <td>0.00000</td>\n      <td>1.000000</td>\n      <td>1.000000</td>\n    </tr>\n    <tr>\n      <th>max</th>\n      <td>5000.000000</td>\n      <td>67.000000</td>\n      <td>43.000000</td>\n      <td>224.000000</td>\n      <td>96651.000000</td>\n      <td>4.000000</td>\n      <td>10.000000</td>\n      <td>3.000000</td>\n      <td>635.000000</td>\n      <td>1.000000</td>\n      <td>1.000000</td>\n      <td>1.00000</td>\n      <td>1.000000</td>\n      <td>1.000000</td>\n    </tr>\n  </tbody>\n</table>\n</div>"
          },
          "metadata": {}
        }
      ],
      "execution_count": 9,
      "metadata": {
        "jupyter": {
          "source_hidden": false,
          "outputs_hidden": false
        },
        "nteract": {
          "transient": {
            "deleting": false
          }
        },
        "gather": {
          "logged": 1641278967807
        }
      }
    },
    {
      "cell_type": "markdown",
      "source": [
        "## AutoML Configuration\n",
        "\n",
        "TODO: Explain why you chose the automl settings and cofiguration you used below."
      ],
      "metadata": {}
    },
    {
      "cell_type": "code",
      "source": [
        "# TODO: Put your automl settings here\n",
        "automl_settings = {\n",
        "    \"experiment_timeout_minutes\": 30,\n",
        "    \"max_concurrent_iterations\": 4,\n",
        "    \"primary_metric\" : 'AUC_weighted'\n",
        "}\n",
        "\n",
        "# TODO: Put your automl config here\n",
        "automl_config = AutoMLConfig(compute_target=compute_target,\n",
        "                             task = \"classification\",\n",
        "                             training_data=dataset,\n",
        "                             label_column_name=\"Personal Loan\",   \n",
        "                             path = project_folder,\n",
        "                             enable_early_stopping= True,\n",
        "                             featurization= 'auto',\n",
        "                             debug_log = \"automl_errors.log\",\n",
        "                             **automl_settings)"
      ],
      "outputs": [],
      "execution_count": 10,
      "metadata": {
        "gather": {
          "logged": 1641278976511
        },
        "jupyter": {
          "outputs_hidden": false,
          "source_hidden": false
        },
        "nteract": {
          "transient": {
            "deleting": false
          }
        }
      }
    },
    {
      "cell_type": "code",
      "source": [
        "# TODO: Submit your experiment\n",
        "remote_run = experiment.submit(automl_config)"
      ],
      "outputs": [
        {
          "output_type": "stream",
          "name": "stdout",
          "text": "Submitting remote run.\n"
        },
        {
          "output_type": "display_data",
          "data": {
            "text/plain": "<IPython.core.display.HTML object>",
            "text/html": "<table style=\"width:100%\"><tr><th>Experiment</th><th>Id</th><th>Type</th><th>Status</th><th>Details Page</th><th>Docs Page</th></tr><tr><td>mlops-capstone-project</td><td>AutoML_909ec8c9-cf3a-4db3-8c51-221d37dfadba</td><td>automl</td><td>NotStarted</td><td><a href=\"https://ml.azure.com/runs/AutoML_909ec8c9-cf3a-4db3-8c51-221d37dfadba?wsid=/subscriptions/1db20fb5-44d4-452c-9f69-3e242db6cb9e/resourcegroups/ml-resource-group/workspaces/MLOPS&amp;tid=482198bb-ae7b-4b25-8b7a-6d7f32faa083\" target=\"_blank\" rel=\"noopener\">Link to Azure Machine Learning studio</a></td><td><a href=\"https://docs.microsoft.com/en-us/python/api/overview/azure/ml/intro?view=azure-ml-py\" target=\"_blank\" rel=\"noopener\">Link to Documentation</a></td></tr></table>"
          },
          "metadata": {}
        }
      ],
      "execution_count": 11,
      "metadata": {
        "gather": {
          "logged": 1641278990923
        },
        "jupyter": {
          "outputs_hidden": false,
          "source_hidden": false
        },
        "nteract": {
          "transient": {
            "deleting": false
          }
        }
      }
    },
    {
      "cell_type": "markdown",
      "source": [
        "## Run Details\n",
        "\n",
        "OPTIONAL: Write about the different models trained and their performance. Why do you think some models did better than others?\n",
        "\n",
        "TODO: In the cell below, use the `RunDetails` widget to show the different experiments."
      ],
      "metadata": {}
    },
    {
      "cell_type": "code",
      "source": [
        "from azureml.widgets import RunDetails\r\n",
        "RunDetails(remote_run).show()"
      ],
      "outputs": [
        {
          "output_type": "display_data",
          "data": {
            "text/plain": "_AutoMLWidget(widget_settings={'childWidgetDisplay': 'popup', 'send_telemetry': False, 'log_level': 'INFO', 's…",
            "application/vnd.jupyter.widget-view+json": {
              "version_major": 2,
              "version_minor": 0,
              "model_id": "0c3101338a68437b94ba2b67bb3f9d68"
            }
          },
          "metadata": {}
        },
        {
          "output_type": "display_data",
          "data": {
            "application/aml.mini.widget.v1": "{\"status\": \"Completed\", \"workbench_run_details_uri\": \"https://ml.azure.com/runs/AutoML_909ec8c9-cf3a-4db3-8c51-221d37dfadba?wsid=/subscriptions/1db20fb5-44d4-452c-9f69-3e242db6cb9e/resourcegroups/ml-resource-group/workspaces/MLOPS&tid=482198bb-ae7b-4b25-8b7a-6d7f32faa083\", \"run_id\": \"AutoML_909ec8c9-cf3a-4db3-8c51-221d37dfadba\", \"run_properties\": {\"run_id\": \"AutoML_909ec8c9-cf3a-4db3-8c51-221d37dfadba\", \"created_utc\": \"2022-01-04T06:49:49.198934Z\", \"properties\": {\"num_iterations\": \"1000\", \"training_type\": \"TrainFull\", \"acquisition_function\": \"EI\", \"primary_metric\": \"AUC_weighted\", \"train_split\": \"0\", \"acquisition_parameter\": \"0\", \"num_cross_validation\": null, \"target\": \"cluster-demo-1\", \"AMLSettingsJsonString\": \"{\\\"path\\\":null,\\\"name\\\":\\\"mlops-capstone-project\\\",\\\"subscription_id\\\":\\\"1db20fb5-44d4-452c-9f69-3e242db6cb9e\\\",\\\"resource_group\\\":\\\"ml-resource-group\\\",\\\"workspace_name\\\":\\\"MLOPS\\\",\\\"region\\\":\\\"eastus2\\\",\\\"compute_target\\\":\\\"cluster-demo-1\\\",\\\"spark_service\\\":null,\\\"azure_service\\\":\\\"remote\\\",\\\"many_models\\\":false,\\\"pipeline_fetch_max_batch_size\\\":1,\\\"enable_batch_run\\\":false,\\\"enable_run_restructure\\\":false,\\\"start_auxiliary_runs_before_parent_complete\\\":false,\\\"enable_code_generation\\\":false,\\\"iterations\\\":1000,\\\"primary_metric\\\":\\\"AUC_weighted\\\",\\\"task_type\\\":\\\"classification\\\",\\\"positive_label\\\":null,\\\"data_script\\\":null,\\\"test_size\\\":0.0,\\\"test_include_predictions_only\\\":false,\\\"validation_size\\\":0.0,\\\"n_cross_validations\\\":null,\\\"y_min\\\":null,\\\"y_max\\\":null,\\\"num_classes\\\":null,\\\"featurization\\\":\\\"auto\\\",\\\"_ignore_package_version_incompatibilities\\\":false,\\\"is_timeseries\\\":false,\\\"max_cores_per_iteration\\\":1,\\\"max_concurrent_iterations\\\":4,\\\"iteration_timeout_minutes\\\":null,\\\"mem_in_mb\\\":null,\\\"enforce_time_on_windows\\\":false,\\\"experiment_timeout_minutes\\\":30,\\\"experiment_exit_score\\\":null,\\\"whitelist_models\\\":null,\\\"blacklist_algos\\\":[\\\"TensorFlowLinearClassifier\\\",\\\"TensorFlowDNN\\\"],\\\"supported_models\\\":[\\\"KNN\\\",\\\"LogisticRegression\\\",\\\"GradientBoosting\\\",\\\"TensorFlowLinearClassifier\\\",\\\"SVM\\\",\\\"TensorFlowDNN\\\",\\\"SGD\\\",\\\"LightGBM\\\",\\\"AveragedPerceptronClassifier\\\",\\\"DecisionTree\\\",\\\"XGBoostClassifier\\\",\\\"MultinomialNaiveBayes\\\",\\\"RandomForest\\\",\\\"BernoulliNaiveBayes\\\",\\\"ExtremeRandomTrees\\\",\\\"LinearSVM\\\"],\\\"private_models\\\":[\\\"TabnetClassifier\\\"],\\\"auto_blacklist\\\":true,\\\"blacklist_samples_reached\\\":false,\\\"exclude_nan_labels\\\":true,\\\"verbosity\\\":20,\\\"_debug_log\\\":\\\"azureml_automl.log\\\",\\\"show_warnings\\\":false,\\\"model_explainability\\\":true,\\\"service_url\\\":null,\\\"sdk_url\\\":null,\\\"sdk_packages\\\":null,\\\"enable_onnx_compatible_models\\\":false,\\\"enable_split_onnx_featurizer_estimator_models\\\":false,\\\"vm_type\\\":\\\"STANDARD_DS3_V2\\\",\\\"telemetry_verbosity\\\":20,\\\"send_telemetry\\\":true,\\\"enable_dnn\\\":false,\\\"scenario\\\":\\\"SDK-1.13.0\\\",\\\"environment_label\\\":null,\\\"save_mlflow\\\":false,\\\"enable_categorical_indicators\\\":false,\\\"force_text_dnn\\\":false,\\\"enable_feature_sweeping\\\":true,\\\"enable_early_stopping\\\":true,\\\"early_stopping_n_iters\\\":10,\\\"arguments\\\":null,\\\"dataset_id\\\":null,\\\"hyperdrive_config\\\":null,\\\"validation_dataset_id\\\":null,\\\"run_source\\\":null,\\\"metrics\\\":null,\\\"enable_metric_confidence\\\":false,\\\"enable_ensembling\\\":true,\\\"enable_stack_ensembling\\\":true,\\\"ensemble_iterations\\\":15,\\\"enable_tf\\\":false,\\\"enable_subsampling\\\":null,\\\"subsample_seed\\\":null,\\\"enable_nimbusml\\\":false,\\\"enable_streaming\\\":false,\\\"force_streaming\\\":false,\\\"track_child_runs\\\":true,\\\"allowed_private_models\\\":[],\\\"label_column_name\\\":\\\"Personal Loan\\\",\\\"weight_column_name\\\":null,\\\"cv_split_column_names\\\":null,\\\"enable_local_managed\\\":false,\\\"_local_managed_run_id\\\":null,\\\"cost_mode\\\":1,\\\"lag_length\\\":0,\\\"metric_operation\\\":\\\"maximize\\\",\\\"preprocess\\\":true}\", \"DataPrepJsonString\": \"{\\\\\\\"training_data\\\\\\\": {\\\\\\\"datasetId\\\\\\\": \\\\\\\"2e960d30-3a1f-4d2a-aeb8-f937c1ac6c5e\\\\\\\"}, \\\\\\\"datasets\\\\\\\": 0}\", \"EnableSubsampling\": null, \"runTemplate\": \"AutoML\", \"azureml.runsource\": \"automl\", \"display_task_type\": \"classification\", \"dependencies_versions\": \"{\\\"azureml-widgets\\\": \\\"1.36.0\\\", \\\"azureml-train\\\": \\\"1.36.0\\\", \\\"azureml-train-restclients-hyperdrive\\\": \\\"1.36.0\\\", \\\"azureml-train-core\\\": \\\"1.36.0\\\", \\\"azureml-train-automl\\\": \\\"1.36.0\\\", \\\"azureml-train-automl-runtime\\\": \\\"1.36.0\\\", \\\"azureml-train-automl-client\\\": \\\"1.36.0\\\", \\\"azureml-tensorboard\\\": \\\"1.36.0\\\", \\\"azureml-telemetry\\\": \\\"1.36.0\\\", \\\"azureml-sdk\\\": \\\"1.36.0\\\", \\\"azureml-samples\\\": \\\"0+unknown\\\", \\\"azureml-responsibleai\\\": \\\"1.36.0\\\", \\\"azureml-pipeline\\\": \\\"1.36.0\\\", \\\"azureml-pipeline-steps\\\": \\\"1.36.0\\\", \\\"azureml-pipeline-core\\\": \\\"1.36.0\\\", \\\"azureml-opendatasets\\\": \\\"1.36.0\\\", \\\"azureml-mlflow\\\": \\\"1.36.0\\\", \\\"azureml-interpret\\\": \\\"1.36.0\\\", \\\"azureml-inference-server-http\\\": \\\"0.4.1\\\", \\\"azureml-explain-model\\\": \\\"1.36.0\\\", \\\"azureml-defaults\\\": \\\"1.36.0\\\", \\\"azureml-dataset-runtime\\\": \\\"1.36.0\\\", \\\"azureml-dataprep\\\": \\\"2.24.4\\\", \\\"azureml-dataprep-rslex\\\": \\\"2.0.3\\\", \\\"azureml-dataprep-native\\\": \\\"38.0.0\\\", \\\"azureml-datadrift\\\": \\\"1.36.0\\\", \\\"azureml-core\\\": \\\"1.36.0.post2\\\", \\\"azureml-contrib-services\\\": \\\"1.36.0\\\", \\\"azureml-contrib-server\\\": \\\"1.36.0\\\", \\\"azureml-contrib-reinforcementlearning\\\": \\\"1.36.0\\\", \\\"azureml-contrib-pipeline-steps\\\": \\\"1.36.0\\\", \\\"azureml-contrib-notebook\\\": \\\"1.36.0\\\", \\\"azureml-contrib-fairness\\\": \\\"1.36.0\\\", \\\"azureml-contrib-dataset\\\": \\\"1.36.0\\\", \\\"azureml-contrib-automl-pipeline-steps\\\": \\\"1.36.0\\\", \\\"azureml-cli-common\\\": \\\"1.36.0\\\", \\\"azureml-automl-runtime\\\": \\\"1.36.0\\\", \\\"azureml-automl-dnn-nlp\\\": \\\"1.36.0\\\", \\\"azureml-automl-core\\\": \\\"1.36.0\\\", \\\"azureml-accel-models\\\": \\\"1.36.0\\\"}\", \"_aml_system_scenario_identification\": \"Remote.Parent\", \"ClientType\": \"SDK\", \"environment_cpu_name\": \"AzureML-AutoML\", \"environment_cpu_label\": \"prod\", \"environment_gpu_name\": \"AzureML-AutoML-GPU\", \"environment_gpu_label\": \"prod\", \"root_attribution\": \"automl\", \"attribution\": \"AutoML\", \"Orchestrator\": \"AutoML\", \"CancelUri\": \"https://eastus2.api.azureml.ms/jasmine/v1.0/subscriptions/1db20fb5-44d4-452c-9f69-3e242db6cb9e/resourceGroups/ml-resource-group/providers/Microsoft.MachineLearningServices/workspaces/MLOPS/experimentids/3ee70ced-8ba8-4997-8ffa-5b43d9e2e4ee/cancel/AutoML_909ec8c9-cf3a-4db3-8c51-221d37dfadba\", \"ClientSdkVersion\": \"1.36.1\", \"snapshotId\": \"00000000-0000-0000-0000-000000000000\", \"SetupRunId\": \"AutoML_909ec8c9-cf3a-4db3-8c51-221d37dfadba_setup\", \"SetupRunContainerId\": \"dcid.AutoML_909ec8c9-cf3a-4db3-8c51-221d37dfadba_setup\", \"FeaturizationRunJsonPath\": \"featurizer_container.json\", \"FeaturizationRunId\": \"AutoML_909ec8c9-cf3a-4db3-8c51-221d37dfadba_featurize\", \"ProblemInfoJsonString\": \"{\\\"dataset_num_categorical\\\": 0, \\\"is_sparse\\\": true, \\\"subsampling\\\": false, \\\"has_extra_col\\\": true, \\\"dataset_classes\\\": 2, \\\"dataset_features\\\": 108, \\\"dataset_samples\\\": 5000, \\\"single_frequency_class_detected\\\": false}\", \"ModelExplainRunId\": \"AutoML_909ec8c9-cf3a-4db3-8c51-221d37dfadba_ModelExplain\"}, \"tags\": {\"model_explain_run\": \"best_run\", \"_aml_system_azureml.automlComponent\": \"AutoML\", \"pipeline_id\": \"\", \"score\": \"\", \"predicted_cost\": \"\", \"fit_time\": \"\", \"training_percent\": \"\", \"iteration\": \"\", \"run_preprocessor\": \"\", \"run_algorithm\": \"\", \"_aml_system_azureml.automl_early_exit_message\": \"Experiment timeout reached, hence experiment stopped. Current experiment timeout: 0 hour(s) 30 minute(s)\", \"automl_best_child_run_id\": \"AutoML_909ec8c9-cf3a-4db3-8c51-221d37dfadba_19\", \"model_explain_best_run_child_id\": \"AutoML_909ec8c9-cf3a-4db3-8c51-221d37dfadba_19\"}, \"end_time_utc\": \"2022-01-04T07:31:11.773044Z\", \"status\": \"Completed\", \"log_files\": {}, \"log_groups\": [], \"run_duration\": \"0:41:22\", \"run_number\": \"1\", \"run_queued_details\": {\"status\": \"Completed\", \"details\": null}}, \"child_runs\": [{\"run_id\": \"AutoML_909ec8c9-cf3a-4db3-8c51-221d37dfadba_setup\", \"run_number\": 2, \"metric\": null, \"status\": \"Completed\", \"run_type\": \"azureml.scriptrun\", \"training_percent\": null, \"start_time\": \"2022-01-04T06:50:03.445375Z\", \"end_time\": \"2022-01-04T06:53:57.388858Z\", \"created_time\": \"2022-01-04T06:50:03.445375Z\", \"created_time_dt\": \"2022-01-04T06:50:03.445375Z\", \"duration\": \"0:03:53\", \"iteration\": null, \"goal\": null, \"run_name\": \"Completed\", \"run_properties\": null}, {\"run_id\": \"AutoML_909ec8c9-cf3a-4db3-8c51-221d37dfadba_featurize\", \"run_number\": 3, \"metric\": null, \"status\": \"Completed\", \"run_type\": \"automl.featurization\", \"training_percent\": null, \"start_time\": \"2022-01-04T06:54:15.602659Z\", \"end_time\": \"2022-01-04T06:55:18.427127Z\", \"created_time\": \"2022-01-04T06:54:15.287363Z\", \"created_time_dt\": \"2022-01-04T06:54:15.287363Z\", \"duration\": \"0:01:03\", \"iteration\": null, \"goal\": null, \"run_name\": \"Completed\", \"run_properties\": null}, {\"run_id\": \"AutoML_909ec8c9-cf3a-4db3-8c51-221d37dfadba_0\", \"run_number\": 5, \"metric\": null, \"status\": \"Completed\", \"run_type\": \"azureml.scriptrun\", \"training_percent\": \"100\", \"start_time\": \"2022-01-04T06:55:19.157204Z\", \"end_time\": \"2022-01-04T06:58:45.570487Z\", \"created_time\": \"2022-01-04T06:55:19.157204Z\", \"created_time_dt\": \"2022-01-04T06:55:19.157204Z\", \"duration\": \"0:03:26\", \"iteration\": \"0\", \"goal\": \"AUC_weighted_max\", \"run_name\": \"MaxAbsScaler, LightGBM\", \"run_properties\": \"copy=True\", \"primary_metric\": 0.99681651, \"best_metric\": 0.99681651}, {\"run_id\": \"AutoML_909ec8c9-cf3a-4db3-8c51-221d37dfadba_2\", \"run_number\": 6, \"metric\": null, \"status\": \"Completed\", \"run_type\": \"azureml.scriptrun\", \"training_percent\": \"100\", \"start_time\": \"2022-01-04T06:55:19.213617Z\", \"end_time\": \"2022-01-04T07:00:49.066871Z\", \"created_time\": \"2022-01-04T06:55:19.213617Z\", \"created_time_dt\": \"2022-01-04T06:55:19.213617Z\", \"duration\": \"0:05:29\", \"iteration\": \"2\", \"goal\": \"AUC_weighted_max\", \"run_name\": \"MaxAbsScaler, ExtremeRandomTrees\", \"run_properties\": \"copy=True\", \"primary_metric\": 0.97433748, \"best_metric\": 0.99681651}, {\"run_id\": \"AutoML_909ec8c9-cf3a-4db3-8c51-221d37dfadba_3\", \"run_number\": 7, \"metric\": null, \"status\": \"Completed\", \"run_type\": \"azureml.scriptrun\", \"training_percent\": \"100\", \"start_time\": \"2022-01-04T06:55:19.235909Z\", \"end_time\": \"2022-01-04T07:02:51.461134Z\", \"created_time\": \"2022-01-04T06:55:19.235909Z\", \"created_time_dt\": \"2022-01-04T06:55:19.235909Z\", \"duration\": \"0:07:32\", \"iteration\": \"3\", \"goal\": \"AUC_weighted_max\", \"run_name\": \"MaxAbsScaler, RandomForest\", \"run_properties\": \"copy=True\", \"primary_metric\": 0.94312851, \"best_metric\": 0.99681651}, {\"run_id\": \"AutoML_909ec8c9-cf3a-4db3-8c51-221d37dfadba_1\", \"run_number\": 8, \"metric\": null, \"status\": \"Completed\", \"run_type\": \"azureml.scriptrun\", \"training_percent\": \"100\", \"start_time\": \"2022-01-04T06:55:19.215004Z\", \"end_time\": \"2022-01-04T06:56:52.310531Z\", \"created_time\": \"2022-01-04T06:55:19.215004Z\", \"created_time_dt\": \"2022-01-04T06:55:19.215004Z\", \"duration\": \"0:01:33\", \"iteration\": \"1\", \"goal\": \"AUC_weighted_max\", \"run_name\": \"MaxAbsScaler, XGBoostClassifier\", \"run_properties\": \"copy=True\", \"primary_metric\": 0.99675762, \"best_metric\": 0.99681651}, {\"run_id\": \"AutoML_909ec8c9-cf3a-4db3-8c51-221d37dfadba_4\", \"run_number\": 9, \"metric\": null, \"status\": \"Completed\", \"run_type\": \"azureml.scriptrun\", \"training_percent\": \"100\", \"start_time\": \"2022-01-04T06:56:53.571974Z\", \"end_time\": \"2022-01-04T07:04:46.316021Z\", \"created_time\": \"2022-01-04T06:56:53.571974Z\", \"created_time_dt\": \"2022-01-04T06:56:53.571974Z\", \"duration\": \"0:07:52\", \"iteration\": \"4\", \"goal\": \"AUC_weighted_max\", \"run_name\": \"StandardScalerWrapper, LightGBM\", \"run_properties\": \"\\n    copy=True,\\n    with_mean=False,\\n    with_std=True\\n\", \"primary_metric\": 0.9787261, \"best_metric\": 0.99681651}, {\"run_id\": \"AutoML_909ec8c9-cf3a-4db3-8c51-221d37dfadba_5\", \"run_number\": 10, \"metric\": null, \"status\": \"Completed\", \"run_type\": \"azureml.scriptrun\", \"training_percent\": \"100\", \"start_time\": \"2022-01-04T06:58:47.571191Z\", \"end_time\": \"2022-01-04T07:06:53.870631Z\", \"created_time\": \"2022-01-04T06:58:47.571191Z\", \"created_time_dt\": \"2022-01-04T06:58:47.571191Z\", \"duration\": \"0:08:06\", \"iteration\": \"5\", \"goal\": \"AUC_weighted_max\", \"run_name\": \"SparseNormalizer, XGBoostClassifier\", \"run_properties\": \"copy=True, norm='max'\", \"primary_metric\": 0.99552339, \"best_metric\": 0.99681651}, {\"run_id\": \"AutoML_909ec8c9-cf3a-4db3-8c51-221d37dfadba_6\", \"run_number\": 11, \"metric\": null, \"status\": \"Completed\", \"run_type\": \"azureml.scriptrun\", \"training_percent\": \"100\", \"start_time\": \"2022-01-04T07:00:51.673689Z\", \"end_time\": \"2022-01-04T07:08:57.972915Z\", \"created_time\": \"2022-01-04T07:00:51.673689Z\", \"created_time_dt\": \"2022-01-04T07:00:51.673689Z\", \"duration\": \"0:08:06\", \"iteration\": \"6\", \"goal\": \"AUC_weighted_max\", \"run_name\": \"SparseNormalizer, RandomForest\", \"run_properties\": \"copy=True, norm='l2'\", \"primary_metric\": 0.98290708, \"best_metric\": 0.99681651}, {\"run_id\": \"AutoML_909ec8c9-cf3a-4db3-8c51-221d37dfadba_7\", \"run_number\": 12, \"metric\": null, \"status\": \"Completed\", \"run_type\": \"azureml.scriptrun\", \"training_percent\": \"100\", \"start_time\": \"2022-01-04T07:02:53.885447Z\", \"end_time\": \"2022-01-04T07:10:53.963032Z\", \"created_time\": \"2022-01-04T07:02:53.885447Z\", \"created_time_dt\": \"2022-01-04T07:02:53.885447Z\", \"duration\": \"0:08:00\", \"iteration\": \"7\", \"goal\": \"AUC_weighted_max\", \"run_name\": \"StandardScalerWrapper, XGBoostClassifier\", \"run_properties\": \"\\n    copy=True,\\n    with_mean=False,\\n    with_std=False\\n\", \"primary_metric\": 0.98677498, \"best_metric\": 0.99681651}, {\"run_id\": \"AutoML_909ec8c9-cf3a-4db3-8c51-221d37dfadba_8\", \"run_number\": 13, \"metric\": null, \"status\": \"Completed\", \"run_type\": \"azureml.scriptrun\", \"training_percent\": \"100\", \"start_time\": \"2022-01-04T07:04:48.601506Z\", \"end_time\": \"2022-01-04T07:12:57.972586Z\", \"created_time\": \"2022-01-04T07:04:48.601506Z\", \"created_time_dt\": \"2022-01-04T07:04:48.601506Z\", \"duration\": \"0:08:09\", \"iteration\": \"8\", \"goal\": \"AUC_weighted_max\", \"run_name\": \"SparseNormalizer, XGBoostClassifier\", \"run_properties\": \"copy=True, norm='max'\", \"primary_metric\": 0.99368084, \"best_metric\": 0.99681651}, {\"run_id\": \"AutoML_909ec8c9-cf3a-4db3-8c51-221d37dfadba_9\", \"run_number\": 14, \"metric\": null, \"status\": \"Completed\", \"run_type\": \"azureml.scriptrun\", \"training_percent\": \"100\", \"start_time\": \"2022-01-04T07:06:56.387955Z\", \"end_time\": \"2022-01-04T07:15:01.597588Z\", \"created_time\": \"2022-01-04T07:06:56.387955Z\", \"created_time_dt\": \"2022-01-04T07:06:56.387955Z\", \"duration\": \"0:08:05\", \"iteration\": \"9\", \"goal\": \"AUC_weighted_max\", \"run_name\": \"MaxAbsScaler, RandomForest\", \"run_properties\": \"copy=True\", \"primary_metric\": 0.8644642, \"best_metric\": 0.99681651}, {\"run_id\": \"AutoML_909ec8c9-cf3a-4db3-8c51-221d37dfadba_10\", \"run_number\": 15, \"metric\": null, \"status\": \"Completed\", \"run_type\": \"azureml.scriptrun\", \"training_percent\": \"100\", \"start_time\": \"2022-01-04T07:09:00.450839Z\", \"end_time\": \"2022-01-04T07:16:54.19788Z\", \"created_time\": \"2022-01-04T07:09:00.450839Z\", \"created_time_dt\": \"2022-01-04T07:09:00.450839Z\", \"duration\": \"0:07:53\", \"iteration\": \"10\", \"goal\": \"AUC_weighted_max\", \"run_name\": \"SparseNormalizer, LightGBM\", \"run_properties\": \"copy=True, norm='l1'\", \"primary_metric\": 0.98972365, \"best_metric\": 0.99681651}, {\"run_id\": \"AutoML_909ec8c9-cf3a-4db3-8c51-221d37dfadba_11\", \"run_number\": 16, \"metric\": null, \"status\": \"Completed\", \"run_type\": \"azureml.scriptrun\", \"training_percent\": \"100\", \"start_time\": \"2022-01-04T07:10:56.294506Z\", \"end_time\": \"2022-01-04T07:19:02.591878Z\", \"created_time\": \"2022-01-04T07:10:56.294506Z\", \"created_time_dt\": \"2022-01-04T07:10:56.294506Z\", \"duration\": \"0:08:06\", \"iteration\": \"11\", \"goal\": \"AUC_weighted_max\", \"run_name\": \"MaxAbsScaler, ExtremeRandomTrees\", \"run_properties\": \"copy=True\", \"primary_metric\": 0.96193654, \"best_metric\": 0.99681651}, {\"run_id\": \"AutoML_909ec8c9-cf3a-4db3-8c51-221d37dfadba_12\", \"run_number\": 17, \"metric\": null, \"status\": \"Completed\", \"run_type\": \"azureml.scriptrun\", \"training_percent\": \"100\", \"start_time\": \"2022-01-04T07:13:01.028783Z\", \"end_time\": \"2022-01-04T07:20:54.825438Z\", \"created_time\": \"2022-01-04T07:13:01.028783Z\", \"created_time_dt\": \"2022-01-04T07:13:01.028783Z\", \"duration\": \"0:07:53\", \"iteration\": \"12\", \"goal\": \"AUC_weighted_max\", \"run_name\": \"StandardScalerWrapper, XGBoostClassifier\", \"run_properties\": \"\\n    copy=True,\\n    with_mean=False,\\n    with_std=False\\n\", \"primary_metric\": 0.99725247, \"best_metric\": 0.99725247}, {\"run_id\": \"AutoML_909ec8c9-cf3a-4db3-8c51-221d37dfadba_13\", \"run_number\": 18, \"metric\": null, \"status\": \"Completed\", \"run_type\": \"azureml.scriptrun\", \"training_percent\": \"100\", \"start_time\": \"2022-01-04T07:15:03.846963Z\", \"end_time\": \"2022-01-04T07:22:59.201993Z\", \"created_time\": \"2022-01-04T07:15:03.846963Z\", \"created_time_dt\": \"2022-01-04T07:15:03.846963Z\", \"duration\": \"0:07:55\", \"iteration\": \"13\", \"goal\": \"AUC_weighted_max\", \"run_name\": \"StandardScalerWrapper, ExtremeRandomTrees\", \"run_properties\": \"\\n    copy=True,\\n    with_mean=False,\\n    with_std=False\\n\", \"primary_metric\": 0.95071725, \"best_metric\": 0.99725247}, {\"run_id\": \"AutoML_909ec8c9-cf3a-4db3-8c51-221d37dfadba_14\", \"run_number\": 19, \"metric\": null, \"status\": \"Completed\", \"run_type\": \"azureml.scriptrun\", \"training_percent\": \"100\", \"start_time\": \"2022-01-04T07:16:56.809774Z\", \"end_time\": \"2022-01-04T07:25:06.460064Z\", \"created_time\": \"2022-01-04T07:16:56.809774Z\", \"created_time_dt\": \"2022-01-04T07:16:56.809774Z\", \"duration\": \"0:08:09\", \"iteration\": \"14\", \"goal\": \"AUC_weighted_max\", \"run_name\": \"StandardScalerWrapper, RandomForest\", \"run_properties\": \"\\n    copy=True,\\n    with_mean=False,\\n    with_std=False\\n\", \"primary_metric\": 0.99524982, \"best_metric\": 0.99725247}, {\"run_id\": \"AutoML_909ec8c9-cf3a-4db3-8c51-221d37dfadba_15\", \"run_number\": 20, \"metric\": null, \"status\": \"Completed\", \"run_type\": \"azureml.scriptrun\", \"training_percent\": \"100\", \"start_time\": \"2022-01-04T07:19:05.746153Z\", \"end_time\": \"2022-01-04T07:26:56.976171Z\", \"created_time\": \"2022-01-04T07:19:05.746153Z\", \"created_time_dt\": \"2022-01-04T07:19:05.746153Z\", \"duration\": \"0:07:51\", \"iteration\": \"15\", \"goal\": \"AUC_weighted_max\", \"run_name\": \"MaxAbsScaler, LightGBM\", \"run_properties\": \"copy=True\", \"primary_metric\": 0.99618582, \"best_metric\": 0.99725247}, {\"run_id\": \"AutoML_909ec8c9-cf3a-4db3-8c51-221d37dfadba_16\", \"run_number\": 21, \"metric\": null, \"status\": \"Canceled\", \"run_type\": \"azureml.scriptrun\", \"training_percent\": \"100\", \"start_time\": \"2022-01-04T07:20:57.15228Z\", \"end_time\": \"2022-01-04T07:26:58.074107Z\", \"created_time\": \"2022-01-04T07:20:57.15228Z\", \"created_time_dt\": \"2022-01-04T07:20:57.15228Z\", \"duration\": \"0:06:00\", \"iteration\": \"16\", \"goal\": null, \"run_name\": \"Canceled\", \"run_properties\": null}, {\"run_id\": \"AutoML_909ec8c9-cf3a-4db3-8c51-221d37dfadba_17\", \"run_number\": 22, \"metric\": null, \"status\": \"Canceled\", \"run_type\": \"azureml.scriptrun\", \"training_percent\": \"100\", \"start_time\": \"2022-01-04T07:23:01.772916Z\", \"end_time\": \"2022-01-04T07:26:58.106508Z\", \"created_time\": \"2022-01-04T07:23:01.772916Z\", \"created_time_dt\": \"2022-01-04T07:23:01.772916Z\", \"duration\": \"0:03:56\", \"iteration\": \"17\", \"goal\": null, \"run_name\": \"Canceled\", \"run_properties\": null}, {\"run_id\": \"AutoML_909ec8c9-cf3a-4db3-8c51-221d37dfadba_18\", \"run_number\": 23, \"metric\": null, \"status\": \"Canceled\", \"run_type\": \"azureml.scriptrun\", \"training_percent\": \"100\", \"start_time\": \"2022-01-04T07:25:08.716037Z\", \"end_time\": \"2022-01-04T07:26:58.178318Z\", \"created_time\": \"2022-01-04T07:25:08.716037Z\", \"created_time_dt\": \"2022-01-04T07:25:08.716037Z\", \"duration\": \"0:01:49\", \"iteration\": \"18\", \"goal\": null, \"run_name\": \"Canceled\", \"run_properties\": null}, {\"run_id\": \"AutoML_909ec8c9-cf3a-4db3-8c51-221d37dfadba_19\", \"run_number\": 24, \"metric\": null, \"status\": \"Completed\", \"run_type\": \"azureml.scriptrun\", \"training_percent\": \"100\", \"start_time\": \"2022-01-04T07:26:59.129044Z\", \"end_time\": \"2022-01-04T07:29:08.345866Z\", \"created_time\": \"2022-01-04T07:26:59.129044Z\", \"created_time_dt\": \"2022-01-04T07:26:59.129044Z\", \"duration\": \"0:02:09\", \"iteration\": \"19\", \"goal\": \"AUC_weighted_max\", \"run_name\": \"VotingEnsemble\", \"run_properties\": \"\\n    estimators=[('12', Pipeline(\\n        memory=None,\\n        steps=[('standardscalerwrapper', StandardScalerWrapper(\\n            copy=True,\\n            with_mean=False,\\n            with_std=False\\n        \", \"primary_metric\": 0.99753677, \"best_metric\": 0.99753677}, {\"run_id\": \"AutoML_909ec8c9-cf3a-4db3-8c51-221d37dfadba_20\", \"run_number\": 25, \"metric\": null, \"status\": \"Completed\", \"run_type\": \"azureml.scriptrun\", \"training_percent\": \"100\", \"start_time\": \"2022-01-04T07:26:59.162467Z\", \"end_time\": \"2022-01-04T07:31:10.333456Z\", \"created_time\": \"2022-01-04T07:26:59.162467Z\", \"created_time_dt\": \"2022-01-04T07:26:59.162467Z\", \"duration\": \"0:04:11\", \"iteration\": \"20\", \"goal\": \"AUC_weighted_max\", \"run_name\": \"StackEnsemble\", \"run_properties\": \"\\n    base_learners=[('12', Pipeline(\\n        memory=None,\\n        steps=[('standardscalerwrapper', StandardScalerWrapper(\\n            copy=True,\\n            with_mean=False,\\n            with_std=False\\n        \", \"primary_metric\": 0.99731273, \"best_metric\": 0.99753677}], \"children_metrics\": {\"categories\": [0], \"series\": {\"matthews_correlation\": [{\"categories\": [\"0\", \"1\", \"2\", \"3\", \"4\", \"5\", \"6\", \"7\", \"8\", \"9\", \"10\", \"11\", \"12\", \"13\", \"14\", \"15\", \"19\", \"20\"], \"mode\": \"markers\", \"name\": \"matthews_correlation\", \"stepped\": false, \"type\": \"scatter\", \"data\": [0.9007225951107517, 0.9222602845871782, 0.5889256323342535, 0.0, 0.687877622848094, 0.8999767648390651, 0.6079345277225684, 0.7666320922072763, 0.8882728670249138, 0.3967846486944911, 0.8038181758755876, 0.6776058443588634, 0.9136602376927013, 0.0, 0.8880470910404696, 0.7759995531390235, 0.9158248328642946, 0.6115283728485319]}, {\"categories\": [\"0\", \"1\", \"2\", \"3\", \"4\", \"5\", \"6\", \"7\", \"8\", \"9\", \"10\", \"11\", \"12\", \"13\", \"14\", \"15\", \"19\", \"20\"], \"mode\": \"lines\", \"name\": \"matthews_correlation_max\", \"stepped\": true, \"type\": \"scatter\", \"data\": [0.9007225951107517, 0.9222602845871782, 0.9222602845871782, 0.9222602845871782, 0.9222602845871782, 0.9222602845871782, 0.9222602845871782, 0.9222602845871782, 0.9222602845871782, 0.9222602845871782, 0.9222602845871782, 0.9222602845871782, 0.9222602845871782, 0.9222602845871782, 0.9222602845871782, 0.9222602845871782, 0.9222602845871782, 0.9222602845871782]}], \"f1_score_micro\": [{\"categories\": [\"0\", \"1\", \"2\", \"3\", \"4\", \"5\", \"6\", \"7\", \"8\", \"9\", \"10\", \"11\", \"12\", \"13\", \"14\", \"15\", \"19\", \"20\"], \"mode\": \"markers\", \"name\": \"f1_score_micro\", \"stepped\": false, \"type\": \"scatter\", \"data\": [0.9833994785676717, 0.9868002389918175, 0.9406013155112074, 0.9040017926786792, 0.952399796151214, 0.9832004787517886, 0.8817990303499923, 0.96240259751171, 0.9813999985117022, 0.8031888220195097, 0.968200957647606, 0.9240013941989513, 0.9854002788877998, 0.9040017926786792, 0.981399878487688, 0.9643996770873917, 0.9858001989037967, 0.9611903549662216]}, {\"categories\": [\"0\", \"1\", \"2\", \"3\", \"4\", \"5\", \"6\", \"7\", \"8\", \"9\", \"10\", \"11\", \"12\", \"13\", \"14\", \"15\", \"19\", \"20\"], \"mode\": \"lines\", \"name\": \"f1_score_micro_max\", \"stepped\": true, \"type\": \"scatter\", \"data\": [0.9833994785676717, 0.9868002389918175, 0.9868002389918175, 0.9868002389918175, 0.9868002389918175, 0.9868002389918175, 0.9868002389918175, 0.9868002389918175, 0.9868002389918175, 0.9868002389918175, 0.9868002389918175, 0.9868002389918175, 0.9868002389918175, 0.9868002389918175, 0.9868002389918175, 0.9868002389918175, 0.9868002389918175, 0.9868002389918175]}], \"accuracy\": [{\"categories\": [\"0\", \"1\", \"2\", \"3\", \"4\", \"5\", \"6\", \"7\", \"8\", \"9\", \"10\", \"11\", \"12\", \"13\", \"14\", \"15\", \"19\", \"20\"], \"mode\": \"markers\", \"name\": \"accuracy\", \"stepped\": false, \"type\": \"scatter\", \"data\": [0.9833994785676717, 0.9868002389918175, 0.9406013155112075, 0.9040017926786792, 0.952399796151214, 0.9832004787517886, 0.8817990303499924, 0.96240259751171, 0.9813999985117022, 0.8031888220195097, 0.9682009576476062, 0.9240013941989513, 0.9854002788877998, 0.9040017926786792, 0.981399878487688, 0.9643996770873917, 0.9858001989037967, 0.9611903549662216]}, {\"categories\": [\"0\", \"1\", \"2\", \"3\", \"4\", \"5\", \"6\", \"7\", \"8\", \"9\", \"10\", \"11\", \"12\", \"13\", \"14\", \"15\", \"19\", \"20\"], \"mode\": \"lines\", \"name\": \"accuracy_max\", \"stepped\": true, \"type\": \"scatter\", \"data\": [0.9833994785676717, 0.9868002389918175, 0.9868002389918175, 0.9868002389918175, 0.9868002389918175, 0.9868002389918175, 0.9868002389918175, 0.9868002389918175, 0.9868002389918175, 0.9868002389918175, 0.9868002389918175, 0.9868002389918175, 0.9868002389918175, 0.9868002389918175, 0.9868002389918175, 0.9868002389918175, 0.9868002389918175, 0.9868002389918175]}], \"average_precision_score_micro\": [{\"categories\": [\"0\", \"1\", \"2\", \"3\", \"4\", \"5\", \"6\", \"7\", \"8\", \"9\", \"10\", \"11\", \"12\", \"13\", \"14\", \"15\", \"19\", \"20\"], \"mode\": \"markers\", \"name\": \"average_precision_score_micro\", \"stepped\": false, \"type\": \"scatter\", \"data\": [0.9990674162003991, 0.9989400732196755, 0.9892200557512257, 0.9809102893538265, 0.9917520786527588, 0.9982784785252322, 0.9745258116955618, 0.9940074601399456, 0.9978547457665, 0.8827127210749316, 0.9960290367457617, 0.9745374934863579, 0.9991215900922379, 0.9823218729516511, 0.9977811406074926, 0.9961658490377899, 0.999002912847805, 0.9960785941914464]}, {\"categories\": [\"0\", \"1\", \"2\", \"3\", \"4\", \"5\", \"6\", \"7\", \"8\", \"9\", \"10\", \"11\", \"12\", \"13\", \"14\", \"15\", \"19\", \"20\"], \"mode\": \"lines\", \"name\": \"average_precision_score_micro_max\", \"stepped\": true, \"type\": \"scatter\", \"data\": [0.9990674162003991, 0.9990674162003991, 0.9990674162003991, 0.9990674162003991, 0.9990674162003991, 0.9990674162003991, 0.9990674162003991, 0.9990674162003991, 0.9990674162003991, 0.9990674162003991, 0.9990674162003991, 0.9990674162003991, 0.9991215900922379, 0.9991215900922379, 0.9991215900922379, 0.9991215900922379, 0.9991215900922379, 0.9991215900922379]}], \"recall_score_weighted\": [{\"categories\": [\"0\", \"1\", \"2\", \"3\", \"4\", \"5\", \"6\", \"7\", \"8\", \"9\", \"10\", \"11\", \"12\", \"13\", \"14\", \"15\", \"19\", \"20\"], \"mode\": \"markers\", \"name\": \"recall_score_weighted\", \"stepped\": false, \"type\": \"scatter\", \"data\": [0.9833994785676717, 0.9868002389918175, 0.9406013155112075, 0.9040017926786792, 0.952399796151214, 0.9832004787517886, 0.8817990303499924, 0.96240259751171, 0.9813999985117022, 0.8031888220195097, 0.9682009576476062, 0.9240013941989513, 0.9854002788877998, 0.9040017926786792, 0.981399878487688, 0.9643996770873917, 0.9858001989037967, 0.9611903549662216]}, {\"categories\": [\"0\", \"1\", \"2\", \"3\", \"4\", \"5\", \"6\", \"7\", \"8\", \"9\", \"10\", \"11\", \"12\", \"13\", \"14\", \"15\", \"19\", \"20\"], \"mode\": \"lines\", \"name\": \"recall_score_weighted_max\", \"stepped\": true, \"type\": \"scatter\", \"data\": [0.9833994785676717, 0.9868002389918175, 0.9868002389918175, 0.9868002389918175, 0.9868002389918175, 0.9868002389918175, 0.9868002389918175, 0.9868002389918175, 0.9868002389918175, 0.9868002389918175, 0.9868002389918175, 0.9868002389918175, 0.9868002389918175, 0.9868002389918175, 0.9868002389918175, 0.9868002389918175, 0.9868002389918175, 0.9868002389918175]}], \"precision_score_micro\": [{\"categories\": [\"0\", \"1\", \"2\", \"3\", \"4\", \"5\", \"6\", \"7\", \"8\", \"9\", \"10\", \"11\", \"12\", \"13\", \"14\", \"15\", \"19\", \"20\"], \"mode\": \"markers\", \"name\": \"precision_score_micro\", \"stepped\": false, \"type\": \"scatter\", \"data\": [0.9833994785676717, 0.9868002389918175, 0.9406013155112075, 0.9040017926786792, 0.952399796151214, 0.9832004787517886, 0.8817990303499924, 0.96240259751171, 0.9813999985117022, 0.8031888220195097, 0.9682009576476062, 0.9240013941989513, 0.9854002788877998, 0.9040017926786792, 0.981399878487688, 0.9643996770873917, 0.9858001989037967, 0.9611903549662216]}, {\"categories\": [\"0\", \"1\", \"2\", \"3\", \"4\", \"5\", \"6\", \"7\", \"8\", \"9\", \"10\", \"11\", \"12\", \"13\", \"14\", \"15\", \"19\", \"20\"], \"mode\": \"lines\", \"name\": \"precision_score_micro_max\", \"stepped\": true, \"type\": \"scatter\", \"data\": [0.9833994785676717, 0.9868002389918175, 0.9868002389918175, 0.9868002389918175, 0.9868002389918175, 0.9868002389918175, 0.9868002389918175, 0.9868002389918175, 0.9868002389918175, 0.9868002389918175, 0.9868002389918175, 0.9868002389918175, 0.9868002389918175, 0.9868002389918175, 0.9868002389918175, 0.9868002389918175, 0.9868002389918175, 0.9868002389918175]}], \"norm_macro_recall\": [{\"categories\": [\"0\", \"1\", \"2\", \"3\", \"4\", \"5\", \"6\", \"7\", \"8\", \"9\", \"10\", \"11\", \"12\", \"13\", \"14\", \"15\", \"19\", \"20\"], \"mode\": \"markers\", \"name\": \"norm_macro_recall\", \"stepped\": false, \"type\": \"scatter\", \"data\": [0.8708705980379872, 0.8926342478928984, 0.38197959006314447, 0.0, 0.5175101292525909, 0.8547711352234594, 0.8372271241485993, 0.6186565194555911, 0.8384131488645425, 0.5690157828486864, 0.6968788186554531, 0.8283764648127248, 0.8830255148815235, 0.0, 0.8148113332422456, 0.6304217415062495, 0.8799244034123516, 0.5945730163573014]}, {\"categories\": [\"0\", \"1\", \"2\", \"3\", \"4\", \"5\", \"6\", \"7\", \"8\", \"9\", \"10\", \"11\", \"12\", \"13\", \"14\", \"15\", \"19\", \"20\"], \"mode\": \"lines\", \"name\": \"norm_macro_recall_max\", \"stepped\": true, \"type\": \"scatter\", \"data\": [0.8708705980379872, 0.8926342478928984, 0.8926342478928984, 0.8926342478928984, 0.8926342478928984, 0.8926342478928984, 0.8926342478928984, 0.8926342478928984, 0.8926342478928984, 0.8926342478928984, 0.8926342478928984, 0.8926342478928984, 0.8926342478928984, 0.8926342478928984, 0.8926342478928984, 0.8926342478928984, 0.8926342478928984, 0.8926342478928984]}], \"f1_score_weighted\": [{\"categories\": [\"0\", \"1\", \"2\", \"3\", \"4\", \"5\", \"6\", \"7\", \"8\", \"9\", \"10\", \"11\", \"12\", \"13\", \"14\", \"15\", \"19\", \"20\"], \"mode\": \"markers\", \"name\": \"f1_score_weighted\", \"stepped\": false, \"type\": \"scatter\", \"data\": [0.9831255680620892, 0.9865826117262717, 0.927575993268326, 0.8584383148087759, 0.9457875570439672, 0.9827734738824033, 0.8997392933700267, 0.9580147959206302, 0.9808657733495801, 0.8381900510402881, 0.9659743414631441, 0.9315223322461706, 0.9851550672855214, 0.8584383148087759, 0.9805953860482903, 0.9607207737873914, 0.9855165876365009, 0.947199703157747]}, {\"categories\": [\"0\", \"1\", \"2\", \"3\", \"4\", \"5\", \"6\", \"7\", \"8\", \"9\", \"10\", \"11\", \"12\", \"13\", \"14\", \"15\", \"19\", \"20\"], \"mode\": \"lines\", \"name\": \"f1_score_weighted_max\", \"stepped\": true, \"type\": \"scatter\", \"data\": [0.9831255680620892, 0.9865826117262717, 0.9865826117262717, 0.9865826117262717, 0.9865826117262717, 0.9865826117262717, 0.9865826117262717, 0.9865826117262717, 0.9865826117262717, 0.9865826117262717, 0.9865826117262717, 0.9865826117262717, 0.9865826117262717, 0.9865826117262717, 0.9865826117262717, 0.9865826117262717, 0.9865826117262717, 0.9865826117262717]}], \"log_loss\": [{\"categories\": [\"0\", \"1\", \"2\", \"3\", \"4\", \"5\", \"6\", \"7\", \"8\", \"9\", \"10\", \"11\", \"12\", \"13\", \"14\", \"15\", \"19\", \"20\"], \"mode\": \"markers\", \"name\": \"log_loss\", \"stepped\": false, \"type\": \"scatter\", \"data\": [0.05181758350046007, 0.04321461662856188, 0.14929623844566567, 0.21805961848185826, 0.13698327287992118, 0.2415723222796351, 0.34175518330830634, 0.2784364235332528, 0.24537846544689265, 0.6541920431764646, 0.09758126895417758, 0.4976763463408134, 0.07832852163207152, 0.24268188203816266, 0.076547948271816, 0.11172634252993922, 0.10873306570038498, 0.1321002414175817]}, {\"categories\": [\"0\", \"1\", \"2\", \"3\", \"4\", \"5\", \"6\", \"7\", \"8\", \"9\", \"10\", \"11\", \"12\", \"13\", \"14\", \"15\", \"19\", \"20\"], \"mode\": \"lines\", \"name\": \"log_loss_min\", \"stepped\": true, \"type\": \"scatter\", \"data\": [0.05181758350046007, 0.04321461662856188, 0.04321461662856188, 0.04321461662856188, 0.04321461662856188, 0.04321461662856188, 0.04321461662856188, 0.04321461662856188, 0.04321461662856188, 0.04321461662856188, 0.04321461662856188, 0.04321461662856188, 0.04321461662856188, 0.04321461662856188, 0.04321461662856188, 0.04321461662856188, 0.04321461662856188, 0.04321461662856188]}], \"AUC_micro\": [{\"categories\": [\"0\", \"1\", \"2\", \"3\", \"4\", \"5\", \"6\", \"7\", \"8\", \"9\", \"10\", \"11\", \"12\", \"13\", \"14\", \"15\", \"19\", \"20\"], \"mode\": \"markers\", \"name\": \"AUC_micro\", \"stepped\": false, \"type\": \"scatter\", \"data\": [0.9990521907857627, 0.9989204270090077, 0.9889396282540189, 0.9808491600998449, 0.9914660392876969, 0.9982448450202538, 0.972932507204217, 0.9940465627599749, 0.9978277366836489, 0.884300709087127, 0.9959398467876169, 0.9747958493941383, 0.9991071460935443, 0.9822535232459323, 0.9978157682562726, 0.9960607782960947, 0.9989850190981332, 0.9962761573056508]}, {\"categories\": [\"0\", \"1\", \"2\", \"3\", \"4\", \"5\", \"6\", \"7\", \"8\", \"9\", \"10\", \"11\", \"12\", \"13\", \"14\", \"15\", \"19\", \"20\"], \"mode\": \"lines\", \"name\": \"AUC_micro_max\", \"stepped\": true, \"type\": \"scatter\", \"data\": [0.9990521907857627, 0.9990521907857627, 0.9990521907857627, 0.9990521907857627, 0.9990521907857627, 0.9990521907857627, 0.9990521907857627, 0.9990521907857627, 0.9990521907857627, 0.9990521907857627, 0.9990521907857627, 0.9990521907857627, 0.9991071460935443, 0.9991071460935443, 0.9991071460935443, 0.9991071460935443, 0.9991071460935443, 0.9991071460935443]}], \"f1_score_macro\": [{\"categories\": [\"0\", \"1\", \"2\", \"3\", \"4\", \"5\", \"6\", \"7\", \"8\", \"9\", \"10\", \"11\", \"12\", \"13\", \"14\", \"15\", \"19\", \"20\"], \"mode\": \"markers\", \"name\": \"f1_score_macro\", \"stepped\": false, \"type\": \"scatter\", \"data\": [0.9499552509771393, 0.9607282156051588, 0.7550786419117888, 0.4747826352742912, 0.8242664475726175, 0.9490695319996331, 0.7698967740989563, 0.869308183914387, 0.942931786640151, 0.6576175279923661, 0.8957990081964199, 0.8257134716114698, 0.9564129147464525, 0.4747826352742912, 0.9415390681168104, 0.8757641569893257, 0.9573518545896004, 0.7978916415445455]}, {\"categories\": [\"0\", \"1\", \"2\", \"3\", \"4\", \"5\", \"6\", \"7\", \"8\", \"9\", \"10\", \"11\", \"12\", \"13\", \"14\", \"15\", \"19\", \"20\"], \"mode\": \"lines\", \"name\": \"f1_score_macro_max\", \"stepped\": true, \"type\": \"scatter\", \"data\": [0.9499552509771393, 0.9607282156051588, 0.9607282156051588, 0.9607282156051588, 0.9607282156051588, 0.9607282156051588, 0.9607282156051588, 0.9607282156051588, 0.9607282156051588, 0.9607282156051588, 0.9607282156051588, 0.9607282156051588, 0.9607282156051588, 0.9607282156051588, 0.9607282156051588, 0.9607282156051588, 0.9607282156051588, 0.9607282156051588]}], \"weighted_accuracy\": [{\"categories\": [\"0\", \"1\", \"2\", \"3\", \"4\", \"5\", \"6\", \"7\", \"8\", \"9\", \"10\", \"11\", \"12\", \"13\", \"14\", \"15\", \"19\", \"20\"], \"mode\": \"markers\", \"name\": \"weighted_accuracy\", \"stepped\": false, \"type\": \"scatter\", \"data\": [0.9933911939118397, 0.9953256210943565, 0.9927030920425715, 0.9887587386390827, 0.9927142960020353, 0.9949098166603857, 0.8740699682801565, 0.9951238504753522, 0.9943231538381042, 0.8073330990185469, 0.9933439556990423, 0.9260425274067008, 0.9945825641799738, 0.9887587386390827, 0.9968557327864681, 0.9954713159270573, 0.9954100481345639, 0.9930585448636796]}, {\"categories\": [\"0\", \"1\", \"2\", \"3\", \"4\", \"5\", \"6\", \"7\", \"8\", \"9\", \"10\", \"11\", \"12\", \"13\", \"14\", \"15\", \"19\", \"20\"], \"mode\": \"lines\", \"name\": \"weighted_accuracy_max\", \"stepped\": true, \"type\": \"scatter\", \"data\": [0.9933911939118397, 0.9953256210943565, 0.9953256210943565, 0.9953256210943565, 0.9953256210943565, 0.9953256210943565, 0.9953256210943565, 0.9953256210943565, 0.9953256210943565, 0.9953256210943565, 0.9953256210943565, 0.9953256210943565, 0.9953256210943565, 0.9953256210943565, 0.9968557327864681, 0.9968557327864681, 0.9968557327864681, 0.9968557327864681]}], \"average_precision_score_macro\": [{\"categories\": [\"0\", \"1\", \"2\", \"3\", \"4\", \"5\", \"6\", \"7\", \"8\", \"9\", \"10\", \"11\", \"12\", \"13\", \"14\", \"15\", \"19\", \"20\"], \"mode\": \"markers\", \"name\": \"average_precision_score_macro\", \"stepped\": false, \"type\": \"scatter\", \"data\": [0.9886064114184435, 0.9881642152488745, 0.9341898047741419, 0.8693665428865565, 0.9432697804038831, 0.9843834314946943, 0.946283098909252, 0.9752579719637661, 0.9818383851956561, 0.7422483667602827, 0.9663625317011704, 0.9196019848897765, 0.9897107297571547, 0.8723314757648462, 0.9847303380034882, 0.9850391380073983, 0.9905092556227341, 0.9894611220712303]}, {\"categories\": [\"0\", \"1\", \"2\", \"3\", \"4\", \"5\", \"6\", \"7\", \"8\", \"9\", \"10\", \"11\", \"12\", \"13\", \"14\", \"15\", \"19\", \"20\"], \"mode\": \"lines\", \"name\": \"average_precision_score_macro_max\", \"stepped\": true, \"type\": \"scatter\", \"data\": [0.9886064114184435, 0.9886064114184435, 0.9886064114184435, 0.9886064114184435, 0.9886064114184435, 0.9886064114184435, 0.9886064114184435, 0.9886064114184435, 0.9886064114184435, 0.9886064114184435, 0.9886064114184435, 0.9886064114184435, 0.9897107297571547, 0.9897107297571547, 0.9897107297571547, 0.9897107297571547, 0.9905092556227341, 0.9905092556227341]}], \"precision_score_macro\": [{\"categories\": [\"0\", \"1\", \"2\", \"3\", \"4\", \"5\", \"6\", \"7\", \"8\", \"9\", \"10\", \"11\", \"12\", \"13\", \"14\", \"15\", \"19\", \"20\"], \"mode\": \"markers\", \"name\": \"precision_score_macro\", \"stepped\": false, \"type\": \"scatter\", \"data\": [0.9658132115921214, 0.9764653318581651, 0.9639399707853782, 0.4520008963393396, 0.9578588727456424, 0.9737998585290061, 0.7209135188483247, 0.9771704180224127, 0.9706782981663857, 0.639466608371974, 0.9637072901104009, 0.7772774773548621, 0.9726947575622317, 0.4520008963393396, 0.9839824659495505, 0.97819807482528, 0.9765967481798886, 0.8001024006008528]}, {\"categories\": [\"0\", \"1\", \"2\", \"3\", \"4\", \"5\", \"6\", \"7\", \"8\", \"9\", \"10\", \"11\", \"12\", \"13\", \"14\", \"15\", \"19\", \"20\"], \"mode\": \"lines\", \"name\": \"precision_score_macro_max\", \"stepped\": true, \"type\": \"scatter\", \"data\": [0.9658132115921214, 0.9764653318581651, 0.9764653318581651, 0.9764653318581651, 0.9764653318581651, 0.9764653318581651, 0.9764653318581651, 0.9771704180224127, 0.9771704180224127, 0.9771704180224127, 0.9771704180224127, 0.9771704180224127, 0.9771704180224127, 0.9771704180224127, 0.9839824659495505, 0.9839824659495505, 0.9839824659495505, 0.9839824659495505]}], \"average_precision_score_weighted\": [{\"categories\": [\"0\", \"1\", \"2\", \"3\", \"4\", \"5\", \"6\", \"7\", \"8\", \"9\", \"10\", \"11\", \"12\", \"13\", \"14\", \"15\", \"19\", \"20\"], \"mode\": \"markers\", \"name\": \"average_precision_score_weighted\", \"stepped\": false, \"type\": \"scatter\", \"data\": [0.997538254498758, 0.9974665314043052, 0.9850466820103104, 0.9690697352006369, 0.9873565668195524, 0.9965628528983602, 0.9883638438939242, 0.9937245975095331, 0.9958702270780031, 0.9355496119691261, 0.9925738373848082, 0.9803681917650957, 0.9978052869205376, 0.9703364699051021, 0.9966510906604391, 0.9968144435312666, 0.997976467263682, 0.9977593157071997]}, {\"categories\": [\"0\", \"1\", \"2\", \"3\", \"4\", \"5\", \"6\", \"7\", \"8\", \"9\", \"10\", \"11\", \"12\", \"13\", \"14\", \"15\", \"19\", \"20\"], \"mode\": \"lines\", \"name\": \"average_precision_score_weighted_max\", \"stepped\": true, \"type\": \"scatter\", \"data\": [0.997538254498758, 0.997538254498758, 0.997538254498758, 0.997538254498758, 0.997538254498758, 0.997538254498758, 0.997538254498758, 0.997538254498758, 0.997538254498758, 0.997538254498758, 0.997538254498758, 0.997538254498758, 0.9978052869205376, 0.9978052869205376, 0.9978052869205376, 0.9978052869205376, 0.997976467263682, 0.997976467263682]}], \"precision_score_weighted\": [{\"categories\": [\"0\", \"1\", \"2\", \"3\", \"4\", \"5\", \"6\", \"7\", \"8\", \"9\", \"10\", \"11\", \"12\", \"13\", \"14\", \"15\", \"19\", \"20\"], \"mode\": \"markers\", \"name\": \"precision_score_weighted\", \"stepped\": false, \"type\": \"scatter\", \"data\": [0.9831390116742104, 0.9866498518778677, 0.9437363522548842, 0.8172729069784687, 0.9529419248899799, 0.982988804974759, 0.9431755010291418, 0.9638515736628602, 0.9811524055220326, 0.9068225009389593, 0.9680231814884649, 0.9483690538510802, 0.9851991259608792, 0.8172729069784687, 0.9815107352951878, 0.9655244326819695, 0.9856248994239382, 0.9346314639855485]}, {\"categories\": [\"0\", \"1\", \"2\", \"3\", \"4\", \"5\", \"6\", \"7\", \"8\", \"9\", \"10\", \"11\", \"12\", \"13\", \"14\", \"15\", \"19\", \"20\"], \"mode\": \"lines\", \"name\": \"precision_score_weighted_max\", \"stepped\": true, \"type\": \"scatter\", \"data\": [0.9831390116742104, 0.9866498518778677, 0.9866498518778677, 0.9866498518778677, 0.9866498518778677, 0.9866498518778677, 0.9866498518778677, 0.9866498518778677, 0.9866498518778677, 0.9866498518778677, 0.9866498518778677, 0.9866498518778677, 0.9866498518778677, 0.9866498518778677, 0.9866498518778677, 0.9866498518778677, 0.9866498518778677, 0.9866498518778677]}], \"balanced_accuracy\": [{\"categories\": [\"0\", \"1\", \"2\", \"3\", \"4\", \"5\", \"6\", \"7\", \"8\", \"9\", \"10\", \"11\", \"12\", \"13\", \"14\", \"15\", \"19\", \"20\"], \"mode\": \"markers\", \"name\": \"balanced_accuracy\", \"stepped\": false, \"type\": \"scatter\", \"data\": [0.9354352990189936, 0.9463171239464492, 0.6909897950315722, 0.5, 0.7587550646262954, 0.9273855676117296, 0.9186135620742997, 0.8093282597277955, 0.9192065744322712, 0.7845078914243432, 0.8484394093277267, 0.9141882324063623, 0.9415127574407617, 0.5, 0.9074056666211229, 0.8152108707531248, 0.9399622017061757, 0.7972865081786508]}, {\"categories\": [\"0\", \"1\", \"2\", \"3\", \"4\", \"5\", \"6\", \"7\", \"8\", \"9\", \"10\", \"11\", \"12\", \"13\", \"14\", \"15\", \"19\", \"20\"], \"mode\": \"lines\", \"name\": \"balanced_accuracy_max\", \"stepped\": true, \"type\": \"scatter\", \"data\": [0.9354352990189936, 0.9463171239464492, 0.9463171239464492, 0.9463171239464492, 0.9463171239464492, 0.9463171239464492, 0.9463171239464492, 0.9463171239464492, 0.9463171239464492, 0.9463171239464492, 0.9463171239464492, 0.9463171239464492, 0.9463171239464492, 0.9463171239464492, 0.9463171239464492, 0.9463171239464492, 0.9463171239464492, 0.9463171239464492]}], \"recall_score_macro\": [{\"categories\": [\"0\", \"1\", \"2\", \"3\", \"4\", \"5\", \"6\", \"7\", \"8\", \"9\", \"10\", \"11\", \"12\", \"13\", \"14\", \"15\", \"19\", \"20\"], \"mode\": \"markers\", \"name\": \"recall_score_macro\", \"stepped\": false, \"type\": \"scatter\", \"data\": [0.9354352990189936, 0.9463171239464492, 0.6909897950315722, 0.5, 0.7587550646262954, 0.9273855676117296, 0.9186135620742997, 0.8093282597277955, 0.9192065744322712, 0.7845078914243432, 0.8484394093277267, 0.9141882324063623, 0.9415127574407617, 0.5, 0.9074056666211229, 0.8152108707531248, 0.9399622017061757, 0.7972865081786508]}, {\"categories\": [\"0\", \"1\", \"2\", \"3\", \"4\", \"5\", \"6\", \"7\", \"8\", \"9\", \"10\", \"11\", \"12\", \"13\", \"14\", \"15\", \"19\", \"20\"], \"mode\": \"lines\", \"name\": \"recall_score_macro_max\", \"stepped\": true, \"type\": \"scatter\", \"data\": [0.9354352990189936, 0.9463171239464492, 0.9463171239464492, 0.9463171239464492, 0.9463171239464492, 0.9463171239464492, 0.9463171239464492, 0.9463171239464492, 0.9463171239464492, 0.9463171239464492, 0.9463171239464492, 0.9463171239464492, 0.9463171239464492, 0.9463171239464492, 0.9463171239464492, 0.9463171239464492, 0.9463171239464492, 0.9463171239464492]}], \"AUC_macro\": [{\"categories\": [\"0\", \"1\", \"2\", \"3\", \"4\", \"5\", \"6\", \"7\", \"8\", \"9\", \"10\", \"11\", \"12\", \"13\", \"14\", \"15\", \"19\", \"20\"], \"mode\": \"markers\", \"name\": \"AUC_macro\", \"stepped\": false, \"type\": \"scatter\", \"data\": [0.9968165054963153, 0.996757615098772, 0.974337481954707, 0.9431285069958539, 0.9787261045638779, 0.995523393883292, 0.9829070847918472, 0.9867749762388206, 0.9936808367439612, 0.8644642042200301, 0.9897236508877941, 0.9619365404632401, 0.9972524722646979, 0.9507172499748138, 0.9952498221617153, 0.9961858242025537, 0.99753676748537, 0.9973127316120985]}, {\"categories\": [\"0\", \"1\", \"2\", \"3\", \"4\", \"5\", \"6\", \"7\", \"8\", \"9\", \"10\", \"11\", \"12\", \"13\", \"14\", \"15\", \"19\", \"20\"], \"mode\": \"lines\", \"name\": \"AUC_macro_max\", \"stepped\": true, \"type\": \"scatter\", \"data\": [0.9968165054963153, 0.9968165054963153, 0.9968165054963153, 0.9968165054963153, 0.9968165054963153, 0.9968165054963153, 0.9968165054963153, 0.9968165054963153, 0.9968165054963153, 0.9968165054963153, 0.9968165054963153, 0.9968165054963153, 0.9972524722646979, 0.9972524722646979, 0.9972524722646979, 0.9972524722646979, 0.99753676748537, 0.99753676748537]}], \"AUC_weighted\": [{\"categories\": [\"0\", \"1\", \"2\", \"3\", \"4\", \"5\", \"6\", \"7\", \"8\", \"9\", \"10\", \"11\", \"12\", \"13\", \"14\", \"15\", \"19\", \"20\"], \"mode\": \"markers\", \"name\": \"AUC_weighted\", \"stepped\": false, \"type\": \"scatter\", \"data\": [0.9968165054963153, 0.996757615098772, 0.974337481954707, 0.9431285069958539, 0.9787261045638779, 0.995523393883292, 0.9829070847918472, 0.9867749762388206, 0.9936808367439611, 0.8644642042200302, 0.9897236508877941, 0.9619365404632401, 0.9972524722646979, 0.9507172499748138, 0.9952498221617151, 0.9961858242025535, 0.99753676748537, 0.9973127316120985]}, {\"categories\": [\"0\", \"1\", \"2\", \"3\", \"4\", \"5\", \"6\", \"7\", \"8\", \"9\", \"10\", \"11\", \"12\", \"13\", \"14\", \"15\", \"19\", \"20\"], \"mode\": \"lines\", \"name\": \"AUC_weighted_max\", \"stepped\": true, \"type\": \"scatter\", \"data\": [0.9968165054963153, 0.9968165054963153, 0.9968165054963153, 0.9968165054963153, 0.9968165054963153, 0.9968165054963153, 0.9968165054963153, 0.9968165054963153, 0.9968165054963153, 0.9968165054963153, 0.9968165054963153, 0.9968165054963153, 0.9972524722646979, 0.9972524722646979, 0.9972524722646979, 0.9972524722646979, 0.99753676748537, 0.99753676748537]}], \"recall_score_micro\": [{\"categories\": [\"0\", \"1\", \"2\", \"3\", \"4\", \"5\", \"6\", \"7\", \"8\", \"9\", \"10\", \"11\", \"12\", \"13\", \"14\", \"15\", \"19\", \"20\"], \"mode\": \"markers\", \"name\": \"recall_score_micro\", \"stepped\": false, \"type\": \"scatter\", \"data\": [0.9833994785676717, 0.9868002389918175, 0.9406013155112075, 0.9040017926786792, 0.952399796151214, 0.9832004787517886, 0.8817990303499924, 0.96240259751171, 0.9813999985117022, 0.8031888220195097, 0.9682009576476062, 0.9240013941989513, 0.9854002788877998, 0.9040017926786792, 0.981399878487688, 0.9643996770873917, 0.9858001989037967, 0.9611903549662216]}, {\"categories\": [\"0\", \"1\", \"2\", \"3\", \"4\", \"5\", \"6\", \"7\", \"8\", \"9\", \"10\", \"11\", \"12\", \"13\", \"14\", \"15\", \"19\", \"20\"], \"mode\": \"lines\", \"name\": \"recall_score_micro_max\", \"stepped\": true, \"type\": \"scatter\", \"data\": [0.9833994785676717, 0.9868002389918175, 0.9868002389918175, 0.9868002389918175, 0.9868002389918175, 0.9868002389918175, 0.9868002389918175, 0.9868002389918175, 0.9868002389918175, 0.9868002389918175, 0.9868002389918175, 0.9868002389918175, 0.9868002389918175, 0.9868002389918175, 0.9868002389918175, 0.9868002389918175, 0.9868002389918175, 0.9868002389918175]}]}, \"metricName\": null, \"primaryMetricName\": \"AUC_weighted\", \"showLegend\": false}, \"run_metrics\": [{\"name\": \"experiment_status\", \"run_id\": \"AutoML_909ec8c9-cf3a-4db3-8c51-221d37dfadba\", \"categories\": [0, 1, 2, 3, 4, 5, 6, 7, 8, 9, 10, 11, 12], \"series\": [{\"data\": [\"DatasetEvaluation\", \"FeaturesGeneration\", \"DatasetFeaturization\", \"DatasetFeaturizationCompleted\", \"DatasetBalancing\", \"DatasetCrossValidationSplit\", \"ModelSelection\", \"BestRunExplainModel\", \"ModelExplanationDataSetSetup\", \"PickSurrogateModel\", \"EngineeredFeatureExplanations\", \"EngineeredFeatureExplanations\", \"RawFeaturesExplanations\"]}]}, {\"name\": \"experiment_status_description\", \"run_id\": \"AutoML_909ec8c9-cf3a-4db3-8c51-221d37dfadba\", \"categories\": [0, 1, 2, 3, 4, 5, 6, 7, 8, 9, 10, 11, 12], \"series\": [{\"data\": [\"Gathering dataset statistics.\", \"Generating features for the dataset.\", \"Beginning to fit featurizers and featurize the dataset.\", \"Completed fit featurizers and featurizing the dataset.\", \"Performing class balancing sweeping\", \"Generating individually featurized CV splits.\", \"Beginning model selection.\", \"Best run model explanations started\", \"Model explanations data setup completed\", \"Choosing LightGBM as the surrogate model for explanations\", \"Computation of engineered features started\", \"Computation of engineered features completed\", \"Computation of raw features started\"]}]}, {\"name\": \"matthews_correlation\", \"run_id\": \"AutoML_909ec8c9-cf3a-4db3-8c51-221d37dfadba\", \"categories\": [0], \"series\": [{\"data\": [0.9158248328642946]}]}, {\"name\": \"average_precision_score_macro\", \"run_id\": \"AutoML_909ec8c9-cf3a-4db3-8c51-221d37dfadba\", \"categories\": [0], \"series\": [{\"data\": [0.9905092556227341]}]}, {\"name\": \"precision_score_macro\", \"run_id\": \"AutoML_909ec8c9-cf3a-4db3-8c51-221d37dfadba\", \"categories\": [0], \"series\": [{\"data\": [0.9765967481798886]}]}, {\"name\": \"precision_score_micro\", \"run_id\": \"AutoML_909ec8c9-cf3a-4db3-8c51-221d37dfadba\", \"categories\": [0], \"series\": [{\"data\": [0.9858001989037967]}]}, {\"name\": \"f1_score_macro\", \"run_id\": \"AutoML_909ec8c9-cf3a-4db3-8c51-221d37dfadba\", \"categories\": [0], \"series\": [{\"data\": [0.9573518545896004]}]}, {\"name\": \"balanced_accuracy\", \"run_id\": \"AutoML_909ec8c9-cf3a-4db3-8c51-221d37dfadba\", \"categories\": [0], \"series\": [{\"data\": [0.9399622017061757]}]}, {\"name\": \"AUC_macro\", \"run_id\": \"AutoML_909ec8c9-cf3a-4db3-8c51-221d37dfadba\", \"categories\": [0], \"series\": [{\"data\": [0.99753676748537]}]}, {\"name\": \"f1_score_weighted\", \"run_id\": \"AutoML_909ec8c9-cf3a-4db3-8c51-221d37dfadba\", \"categories\": [0], \"series\": [{\"data\": [0.9855165876365009]}]}, {\"name\": \"weighted_accuracy\", \"run_id\": \"AutoML_909ec8c9-cf3a-4db3-8c51-221d37dfadba\", \"categories\": [0], \"series\": [{\"data\": [0.9954100481345639]}]}, {\"name\": \"norm_macro_recall\", \"run_id\": \"AutoML_909ec8c9-cf3a-4db3-8c51-221d37dfadba\", \"categories\": [0], \"series\": [{\"data\": [0.8799244034123516]}]}, {\"name\": \"recall_score_weighted\", \"run_id\": \"AutoML_909ec8c9-cf3a-4db3-8c51-221d37dfadba\", \"categories\": [0], \"series\": [{\"data\": [0.9858001989037967]}]}, {\"name\": \"precision_score_weighted\", \"run_id\": \"AutoML_909ec8c9-cf3a-4db3-8c51-221d37dfadba\", \"categories\": [0], \"series\": [{\"data\": [0.9856248994239382]}]}, {\"name\": \"average_precision_score_weighted\", \"run_id\": \"AutoML_909ec8c9-cf3a-4db3-8c51-221d37dfadba\", \"categories\": [0], \"series\": [{\"data\": [0.997976467263682]}]}, {\"name\": \"accuracy\", \"run_id\": \"AutoML_909ec8c9-cf3a-4db3-8c51-221d37dfadba\", \"categories\": [0], \"series\": [{\"data\": [0.9858001989037967]}]}, {\"name\": \"AUC_micro\", \"run_id\": \"AutoML_909ec8c9-cf3a-4db3-8c51-221d37dfadba\", \"categories\": [0], \"series\": [{\"data\": [0.9989850190981332]}]}, {\"name\": \"log_loss\", \"run_id\": \"AutoML_909ec8c9-cf3a-4db3-8c51-221d37dfadba\", \"categories\": [0], \"series\": [{\"data\": [0.10873306570038498]}]}, {\"name\": \"f1_score_micro\", \"run_id\": \"AutoML_909ec8c9-cf3a-4db3-8c51-221d37dfadba\", \"categories\": [0], \"series\": [{\"data\": [0.9858001989037967]}]}, {\"name\": \"recall_score_micro\", \"run_id\": \"AutoML_909ec8c9-cf3a-4db3-8c51-221d37dfadba\", \"categories\": [0], \"series\": [{\"data\": [0.9858001989037967]}]}, {\"name\": \"average_precision_score_micro\", \"run_id\": \"AutoML_909ec8c9-cf3a-4db3-8c51-221d37dfadba\", \"categories\": [0], \"series\": [{\"data\": [0.999002912847805]}]}, {\"name\": \"AUC_weighted\", \"run_id\": \"AutoML_909ec8c9-cf3a-4db3-8c51-221d37dfadba\", \"categories\": [0], \"series\": [{\"data\": [0.99753676748537]}]}, {\"name\": \"recall_score_macro\", \"run_id\": \"AutoML_909ec8c9-cf3a-4db3-8c51-221d37dfadba\", \"categories\": [0], \"series\": [{\"data\": [0.9399622017061757]}]}], \"run_logs\": \"\\nRun is completed.\", \"graph\": {}, \"widget_settings\": {\"childWidgetDisplay\": \"popup\", \"send_telemetry\": false, \"log_level\": \"INFO\", \"sdk_version\": \"1.36.0\"}, \"loading\": false}"
          },
          "metadata": {}
        }
      ],
      "execution_count": 13,
      "metadata": {
        "gather": {
          "logged": 1641314651596
        },
        "jupyter": {
          "outputs_hidden": false,
          "source_hidden": false
        },
        "nteract": {
          "transient": {
            "deleting": false
          }
        }
      }
    },
    {
      "cell_type": "markdown",
      "source": [
        "## Best Model\n",
        "\n",
        "TODO: In the cell below, get the best model from the automl experiments and display all the properties of the model.\n",
        "\n"
      ],
      "metadata": {}
    },
    {
      "cell_type": "code",
      "source": [
        "best_run, fitted_model = remote_run.get_output()\r\n",
        "print(best_run)\r\n",
        "print('------------------------------------------------------------------------------------------------------------')\r\n",
        "#print(fitted_model)\r\n",
        "best_run_metrics = best_run.get_metrics()\r\n",
        "for metric_name in best_run_metrics:\r\n",
        "    metric = best_run_metrics[metric_name]\r\n",
        "    print(metric_name, metric)\r\n"
      ],
      "outputs": [
        {
          "output_type": "stream",
          "name": "stdout",
          "text": "Run(Experiment: mlops-capstone-project,\nId: AutoML_909ec8c9-cf3a-4db3-8c51-221d37dfadba_19,\nType: azureml.scriptrun,\nStatus: Completed)\n------------------------------------------------------------------------------------------------------------\nbalanced_accuracy 0.9399622017061757\nprecision_score_weighted 0.9856248994239382\naccuracy 0.9858001989037967\nmatthews_correlation 0.9158248328642946\nf1_score_micro 0.9858001989037967\nweighted_accuracy 0.9954100481345639\nprecision_score_micro 0.9858001989037967\nnorm_macro_recall 0.8799244034123516\nAUC_macro 0.99753676748537\nrecall_score_macro 0.9399622017061757\nf1_score_macro 0.9573518545896004\nrecall_score_micro 0.9858001989037967\naverage_precision_score_micro 0.999002912847805\nf1_score_weighted 0.9855165876365009\nprecision_score_macro 0.9765967481798886\naverage_precision_score_weighted 0.997976467263682\nrecall_score_weighted 0.9858001989037967\naverage_precision_score_macro 0.9905092556227341\nAUC_weighted 0.99753676748537\nAUC_micro 0.9989850190981332\nlog_loss 0.10873306570038498\naccuracy_table aml://artifactId/ExperimentRun/dcid.AutoML_909ec8c9-cf3a-4db3-8c51-221d37dfadba_19/accuracy_table\nconfusion_matrix aml://artifactId/ExperimentRun/dcid.AutoML_909ec8c9-cf3a-4db3-8c51-221d37dfadba_19/confusion_matrix\n"
        }
      ],
      "execution_count": 22,
      "metadata": {
        "gather": {
          "logged": 1641342975888
        },
        "jupyter": {
          "outputs_hidden": false,
          "source_hidden": false
        },
        "nteract": {
          "transient": {
            "deleting": false
          }
        }
      }
    },
    {
      "cell_type": "code",
      "source": [
        "#TODO Save the best model\r\n",
        "bestModel = best_run.register_model(model_path='outputs/model.pkl', model_name='CapstoneModel_automl',\r\n",
        "                        tags={'Capstone AML Training tag':'Capstone Auto ML'},\r\n",
        "                        properties={'Accuracy': best_run_metrics['AUC_weighted']})\r\n",
        "\r\n",
        "print(bestModel)"
      ],
      "outputs": [
        {
          "output_type": "stream",
          "name": "stdout",
          "text": "Model(workspace=Workspace.create(name='MLOPS', subscription_id='1db20fb5-44d4-452c-9f69-3e242db6cb9e', resource_group='ml-resource-group'), name=CapstoneModel_automl, id=CapstoneModel_automl:1, version=1, tags={'Capstone AML Training tag': 'Capstone Auto ML'}, properties={'Accuracy': '0.99753676748537'})\n"
        }
      ],
      "execution_count": 25,
      "metadata": {
        "jupyter": {
          "source_hidden": false,
          "outputs_hidden": false
        },
        "nteract": {
          "transient": {
            "deleting": false
          }
        },
        "gather": {
          "logged": 1641343361819
        }
      }
    },
    {
      "cell_type": "markdown",
      "source": [
        "## Model Deployment\n",
        "\n",
        "Remember you have to deploy only one of the two models you trained but you still need to register both the models. Perform the steps in the rest of this notebook only if you wish to deploy this model.\n",
        "\n",
        "TODO: In the cell below, register the model, create an inference config and deploy the model as a web service."
      ],
      "metadata": {}
    },
    {
      "cell_type": "code",
      "source": [
        "from azureml.core import Model\r\n",
        "from azureml.core.environment import Environment\r\n",
        "from azureml.core.model import InferenceConfig\r\n",
        "from azureml.core.webservice import AciWebservice\r\n",
        " \r\n",
        "best_run.download_file('outputs/scoring_file_v_1_0_0.py', 'scoringScript.py')\r\n",
        "#best_run.download_file('outputs/conda_env_v_1_0_0.yml', 'envFile.yml')\r\n",
        "inference_config = InferenceConfig(entry_script='scoringScript.py',\r\n",
        "                                    environment=best_run.get_environment())\r\n",
        "deployment_config = AciWebservice.deploy_configuration(cpu_cores = 1, memory_gb = 1) # To Deploy the model to ACI with a default environment you can still customize the deploy configuration (i.e. the number of cores and amount of memory made available for the deployment) using the AciWebservice.deploy_configuration(). (https://docs.microsoft.com/en-us/python/api/azureml-core/azureml.core.webservice.aci.aciwebservice?view=azure-ml-py)\r\n",
        "service = Model.deploy(ws, \"joydeep-capstone-endpoint\", [bestModel], inference_config, deployment_config)\r\n",
        "service.wait_for_deployment(show_output = True)\r\n",
        "print(service.state)\r\n",
        "print(service.scoring_uri)\r\n",
        "print(service.swagger_uri)"
      ],
      "outputs": [
        {
          "output_type": "stream",
          "name": "stdout",
          "text": "Tips: You can try get_logs(): https://aka.ms/debugimage#dockerlog or local deployment: https://aka.ms/debugimage#debug-locally to debug if deployment takes longer than 10 minutes.\nRunning\n2022-01-05 01:40:06+00:00 Creating Container Registry if not exists.\n2022-01-05 01:40:06+00:00 Registering the environment.\n2022-01-05 01:40:06+00:00 Use the existing image.\n2022-01-05 01:40:06+00:00 Generating deployment configuration.\n2022-01-05 01:40:07+00:00 Submitting deployment to compute.\n2022-01-05 01:40:10+00:00 Checking the status of deployment joydeep-capstone-endpoint..\n2022-01-05 01:40:45+00:00 Checking the status of inference endpoint joydeep-capstone-endpoint.\nSucceeded\nACI service creation operation finished, operation \"Succeeded\"\nHealthy\nhttp://f40267f5-2c3a-42ef-93db-8febef8c4df0.eastus2.azurecontainer.io/score\nhttp://f40267f5-2c3a-42ef-93db-8febef8c4df0.eastus2.azurecontainer.io/swagger.json\n"
        }
      ],
      "execution_count": 36,
      "metadata": {
        "gather": {
          "logged": 1641346885063
        },
        "jupyter": {
          "outputs_hidden": false,
          "source_hidden": false
        },
        "nteract": {
          "transient": {
            "deleting": false
          }
        }
      }
    },
    {
      "cell_type": "markdown",
      "source": [
        "TODO: In the cell below, send a request to the web service you deployed to test it."
      ],
      "metadata": {
        "collapsed": true,
        "gather": {
          "logged": 1598431657736
        },
        "jupyter": {
          "outputs_hidden": false,
          "source_hidden": false
        },
        "nteract": {
          "transient": {
            "deleting": false
          }
        }
      }
    },
    {
      "cell_type": "code",
      "source": [
        "import requests\r\n",
        "\r\n",
        "test_data = '{\"data\":[{\"ID\":19,\"Age\":46,\"Experience\":21,\"Income\":193,\"ZIP Code\":91604,\"Family\":2,\"CCAvg\":8.1,'\\\r\n",
        "'\"Education\":3,\"Mortgage\":0,\"Securities Account\":0,\"CD Account\":0,\"Online\":0,\"CreditCard\":0}],\"method\":\"predict\"}'\r\n",
        "print(test_data)\r\n",
        "headers = {'Content-type': 'application/json'}\r\n",
        "\r\n",
        "response = requests.post(service.scoring_uri, test_data, headers=headers)\r\n",
        "print(\"---------------------------Predicted output (1: Loan Approved , 0: Loan Denied)-------------------------\")\r\n",
        "print(response.text)"
      ],
      "outputs": [
        {
          "output_type": "stream",
          "name": "stdout",
          "text": "{\"data\":[{\"ID\":19,\"Age\":46,\"Experience\":21,\"Income\":193,\"ZIP Code\":91604,\"Family\":2,\"CCAvg\":8.1,\"Education\":3,\"Mortgage\":0,\"Securities Account\":0,\"CD Account\":0,\"Online\":0,\"CreditCard\":0}],\"method\":\"predict\"}\n---------------------------Predicted output (1: Loan Approved , 0: Loan Denied)-------------------------\n\"{\\\"result\\\": [1]}\"\n"
        }
      ],
      "execution_count": 34,
      "metadata": {
        "gather": {
          "logged": 1641346194611
        },
        "jupyter": {
          "outputs_hidden": false,
          "source_hidden": false
        },
        "nteract": {
          "transient": {
            "deleting": false
          }
        }
      }
    },
    {
      "cell_type": "markdown",
      "source": [
        "TODO: In the cell below, print the logs of the web service and delete the service"
      ],
      "metadata": {
        "collapsed": true,
        "gather": {
          "logged": 1598432765711
        },
        "jupyter": {
          "outputs_hidden": false,
          "source_hidden": false
        },
        "nteract": {
          "transient": {
            "deleting": false
          }
        }
      }
    },
    {
      "cell_type": "code",
      "source": [
        "print(service.get_logs())\r\n",
        "service.delete()"
      ],
      "outputs": [
        {
          "output_type": "stream",
          "name": "stdout",
          "text": "2022-01-05T00:56:38,432466200+00:00 - iot-server/run \n2022-01-05T00:56:38,435915300+00:00 - rsyslog/run \n2022-01-05T00:56:38,446732300+00:00 - nginx/run \n2022-01-05T00:56:38,461196900+00:00 - gunicorn/run \nDynamic Python package installation is disabled.\nStarting HTTP server\nrsyslogd: /azureml-envs/azureml_84c85d362f11658b9008714e1aa4657b/lib/libuuid.so.1: no version information available (required by rsyslogd)\nEdgeHubConnectionString and IOTEDGE_IOTHUBHOSTNAME are not set. Exiting...\n2022-01-05T00:56:38,785562300+00:00 - iot-server/finish 1 0\n2022-01-05T00:56:38,789343900+00:00 - Exit code 1 is normal. Not restarting iot-server.\nStarting gunicorn 20.1.0\nListening at: http://127.0.0.1:31311 (72)\nUsing worker: sync\nworker timeout is set to 300\nBooting worker with pid: 100\nSPARK_HOME not set. Skipping PySpark Initialization.\nGenerating new fontManager, this may take some time...\nInitializing logger\n2022-01-05 00:56:42,013 | root | INFO | Starting up app insights client\nlogging socket was found. logging is available.\nlogging socket was found. logging is available.\n2022-01-05 00:56:42,014 | root | INFO | Starting up request id generator\n2022-01-05 00:56:42,014 | root | INFO | Starting up app insight hooks\n2022-01-05 00:56:42,014 | root | INFO | Invoking user's init function\n2022-01-05 00:56:49,036 | root | INFO | Users's init has completed successfully\n2022-01-05 00:56:49,045 | root | INFO | Skipping middleware: dbg_model_info as it's not enabled.\n2022-01-05 00:56:49,045 | root | INFO | Skipping middleware: dbg_resource_usage as it's not enabled.\nGenerating swagger file: /tmp/tmptw5c_q9s\n2022-01-05 00:56:49,076 | root | INFO | Scoring timeout is found from os.environ: 60000 ms\n2022-01-05 00:57:08,570 | root | INFO | 200\n127.0.0.1 - - [05/Jan/2022:00:57:08 +0000] \"GET /swagger.json HTTP/1.0\" 200 3071 \"-\" \"Go-http-client/1.1\"\n2022-01-05 00:57:11,417 | root | INFO | 200\n127.0.0.1 - - [05/Jan/2022:00:57:11 +0000] \"GET /swagger.json HTTP/1.0\" 200 3071 \"-\" \"Go-http-client/1.1\"\n2022-01-05 00:58:41,212 | root | INFO | 200\n127.0.0.1 - - [05/Jan/2022:00:58:41 +0000] \"GET /swagger.json HTTP/1.0\" 200 3071 \"-\" \"Go-http-client/1.1\"\n2022-01-05 01:00:30,770 | root | INFO | 200\n127.0.0.1 - - [05/Jan/2022:01:00:30 +0000] \"GET /swagger.json HTTP/1.0\" 200 3071 \"-\" \"Go-http-client/1.1\"\n2022-01-05 01:00:32,465 | root | INFO | 200\n127.0.0.1 - - [05/Jan/2022:01:00:32 +0000] \"GET /swagger.json HTTP/1.0\" 200 3071 \"-\" \"Go-http-client/1.1\"\n2022-01-05 01:10:16,480 | root | INFO | Validation Request Content-Type\n2022-01-05 01:10:16,484 | root | ERROR | Encountered Exception: Traceback (most recent call last):\n  File \"/var/azureml-server/synchronous/routes.py\", line 65, in run_scoring\n    response, time_taken_ms = invoke_user_with_timer(service_input, request_headers)\n  File \"/var/azureml-server/synchronous/routes.py\", line 102, in invoke_user_with_timer\n    params = prepare_user_params(input, headers, aml_request._rawHttpRequested)\n  File \"/var/azureml-server/routes_common.py\", line 132, in prepare_user_params\n    params = {main.run_input_parameter_name: input[main.wrapped_parameter_name]}\nTypeError: list indices must be integers or slices, not str\n\nDuring handling of the above exception, another exception occurred:\n\nTraceback (most recent call last):\n  File \"/azureml-envs/azureml_84c85d362f11658b9008714e1aa4657b/lib/python3.6/site-packages/flask/app.py\", line 1832, in full_dispatch_request\n    rv = self.dispatch_request()\n  File \"/azureml-envs/azureml_84c85d362f11658b9008714e1aa4657b/lib/python3.6/site-packages/flask/app.py\", line 1818, in dispatch_request\n    return self.view_functions[rule.endpoint](**req.view_args)\n  File \"/var/azureml-server/synchronous/routes.py\", line 44, in score_realtime\n    return run_scoring(service_input, request.headers, request.environ.get('REQUEST_ID', '00000000-0000-0000-0000-000000000000'))\n  File \"/var/azureml-server/synchronous/routes.py\", line 74, in run_scoring\n    raise RunFunctionException(str(exc))\nrun_function_exception.RunFunctionException\n\n2022-01-05 01:10:16,485 | root | INFO | 500\n127.0.0.1 - - [05/Jan/2022:01:10:16 +0000] \"POST /score HTTP/1.0\" 500 48 \"-\" \"python-requests/2.26.0\"\n2022-01-05 01:12:05,150 | root | INFO | Validation Request Content-Type\n2022-01-05 01:12:05,151 | root | ERROR | Encountered Exception: Traceback (most recent call last):\n  File \"/var/azureml-server/synchronous/routes.py\", line 65, in run_scoring\n    response, time_taken_ms = invoke_user_with_timer(service_input, request_headers)\n  File \"/var/azureml-server/synchronous/routes.py\", line 102, in invoke_user_with_timer\n    params = prepare_user_params(input, headers, aml_request._rawHttpRequested)\n  File \"/var/azureml-server/routes_common.py\", line 132, in prepare_user_params\n    params = {main.run_input_parameter_name: input[main.wrapped_parameter_name]}\nKeyError: 'data'\n\nDuring handling of the above exception, another exception occurred:\n\nTraceback (most recent call last):\n  File \"/azureml-envs/azureml_84c85d362f11658b9008714e1aa4657b/lib/python3.6/site-packages/flask/app.py\", line 1832, in full_dispatch_request\n    rv = self.dispatch_request()\n  File \"/azureml-envs/azureml_84c85d362f11658b9008714e1aa4657b/lib/python3.6/site-packages/flask/app.py\", line 1818, in dispatch_request\n    return self.view_functions[rule.endpoint](**req.view_args)\n  File \"/var/azureml-server/synchronous/routes.py\", line 44, in score_realtime\n    return run_scoring(service_input, request.headers, request.environ.get('REQUEST_ID', '00000000-0000-0000-0000-000000000000'))\n  File \"/var/azureml-server/synchronous/routes.py\", line 74, in run_scoring\n    raise RunFunctionException(str(exc))\nrun_function_exception.RunFunctionException\n\n2022-01-05 01:12:05,151 | root | INFO | 500\n127.0.0.1 - - [05/Jan/2022:01:12:05 +0000] \"POST /score HTTP/1.0\" 500 6 \"-\" \"python-requests/2.26.0\"\n2022-01-05 01:12:43,556 | root | INFO | Validation Request Content-Type\n2022-01-05 01:12:43,557 | root | ERROR | Encountered Exception: Traceback (most recent call last):\n  File \"/var/azureml-server/synchronous/routes.py\", line 65, in run_scoring\n    response, time_taken_ms = invoke_user_with_timer(service_input, request_headers)\n  File \"/var/azureml-server/synchronous/routes.py\", line 102, in invoke_user_with_timer\n    params = prepare_user_params(input, headers, aml_request._rawHttpRequested)\n  File \"/var/azureml-server/routes_common.py\", line 132, in prepare_user_params\n    params = {main.run_input_parameter_name: input[main.wrapped_parameter_name]}\nKeyError: 'data'\n\nDuring handling of the above exception, another exception occurred:\n\nTraceback (most recent call last):\n  File \"/azureml-envs/azureml_84c85d362f11658b9008714e1aa4657b/lib/python3.6/site-packages/flask/app.py\", line 1832, in full_dispatch_request\n    rv = self.dispatch_request()\n  File \"/azureml-envs/azureml_84c85d362f11658b9008714e1aa4657b/lib/python3.6/site-packages/flask/app.py\", line 1818, in dispatch_request\n    return self.view_functions[rule.endpoint](**req.view_args)\n  File \"/var/azureml-server/synchronous/routes.py\", line 44, in score_realtime\n    return run_scoring(service_input, request.headers, request.environ.get('REQUEST_ID', '00000000-0000-0000-0000-000000000000'))\n  File \"/var/azureml-server/synchronous/routes.py\", line 74, in run_scoring\n    raise RunFunctionException(str(exc))\nrun_function_exception.RunFunctionException\n\n2022-01-05 01:12:43,557 | root | INFO | 500\n127.0.0.1 - - [05/Jan/2022:01:12:43 +0000] \"POST /score?verbose=true HTTP/1.0\" 500 6 \"-\" \"Go-http-client/1.1\"\n2022-01-05 01:12:44,199 | root | INFO | Validation Request Content-Type\n2022-01-05 01:12:44,199 | root | ERROR | Encountered Exception: Traceback (most recent call last):\n  File \"/var/azureml-server/synchronous/routes.py\", line 65, in run_scoring\n    response, time_taken_ms = invoke_user_with_timer(service_input, request_headers)\n  File \"/var/azureml-server/synchronous/routes.py\", line 102, in invoke_user_with_timer\n    params = prepare_user_params(input, headers, aml_request._rawHttpRequested)\n  File \"/var/azureml-server/routes_common.py\", line 132, in prepare_user_params\n    params = {main.run_input_parameter_name: input[main.wrapped_parameter_name]}\nKeyError: 'data'\n\nDuring handling of the above exception, another exception occurred:\n\nTraceback (most recent call last):\n  File \"/azureml-envs/azureml_84c85d362f11658b9008714e1aa4657b/lib/python3.6/site-packages/flask/app.py\", line 1832, in full_dispatch_request\n    rv = self.dispatch_request()\n  File \"/azureml-envs/azureml_84c85d362f11658b9008714e1aa4657b/lib/python3.6/site-packages/flask/app.py\", line 1818, in dispatch_request\n    return self.view_functions[rule.endpoint](**req.view_args)\n  File \"/var/azureml-server/synchronous/routes.py\", line 44, in score_realtime\n    return run_scoring(service_input, request.headers, request.environ.get('REQUEST_ID', '00000000-0000-0000-0000-000000000000'))\n  File \"/var/azureml-server/synchronous/routes.py\", line 74, in run_scoring\n    raise RunFunctionException(str(exc))\nrun_function_exception.RunFunctionException\n\n2022-01-05 01:12:44,200 | root | INFO | 500\n127.0.0.1 - - [05/Jan/2022:01:12:44 +0000] \"POST /score?verbose=true HTTP/1.0\" 500 6 \"-\" \"Go-http-client/1.1\"\n2022-01-05 01:12:45,361 | root | INFO | Validation Request Content-Type\n2022-01-05 01:12:45,362 | root | ERROR | Encountered Exception: Traceback (most recent call last):\n  File \"/var/azureml-server/synchronous/routes.py\", line 65, in run_scoring\n    response, time_taken_ms = invoke_user_with_timer(service_input, request_headers)\n  File \"/var/azureml-server/synchronous/routes.py\", line 102, in invoke_user_with_timer\n    params = prepare_user_params(input, headers, aml_request._rawHttpRequested)\n  File \"/var/azureml-server/routes_common.py\", line 132, in prepare_user_params\n    params = {main.run_input_parameter_name: input[main.wrapped_parameter_name]}\nKeyError: 'data'\n\nDuring handling of the above exception, another exception occurred:\n\nTraceback (most recent call last):\n  File \"/azureml-envs/azureml_84c85d362f11658b9008714e1aa4657b/lib/python3.6/site-packages/flask/app.py\", line 1832, in full_dispatch_request\n    rv = self.dispatch_request()\n  File \"/azureml-envs/azureml_84c85d362f11658b9008714e1aa4657b/lib/python3.6/site-packages/flask/app.py\", line 1818, in dispatch_request\n    return self.view_functions[rule.endpoint](**req.view_args)\n  File \"/var/azureml-server/synchronous/routes.py\", line 44, in score_realtime\n    return run_scoring(service_input, request.headers, request.environ.get('REQUEST_ID', '00000000-0000-0000-0000-000000000000'))\n  File \"/var/azureml-server/synchronous/routes.py\", line 74, in run_scoring\n    raise RunFunctionException(str(exc))\nrun_function_exception.RunFunctionException\n\n2022-01-05 01:12:45,363 | root | INFO | 500\n127.0.0.1 - - [05/Jan/2022:01:12:45 +0000] \"POST /score?verbose=true HTTP/1.0\" 500 6 \"-\" \"Go-http-client/1.1\"\n2022-01-05 01:12:47,488 | root | INFO | Validation Request Content-Type\n2022-01-05 01:12:47,490 | root | ERROR | Encountered Exception: Traceback (most recent call last):\n  File \"/var/azureml-server/synchronous/routes.py\", line 65, in run_scoring\n    response, time_taken_ms = invoke_user_with_timer(service_input, request_headers)\n  File \"/var/azureml-server/synchronous/routes.py\", line 102, in invoke_user_with_timer\n    params = prepare_user_params(input, headers, aml_request._rawHttpRequested)\n  File \"/var/azureml-server/routes_common.py\", line 132, in prepare_user_params\n    params = {main.run_input_parameter_name: input[main.wrapped_parameter_name]}\nKeyError: 'data'\n\nDuring handling of the above exception, another exception occurred:\n\nTraceback (most recent call last):\n  File \"/azureml-envs/azureml_84c85d362f11658b9008714e1aa4657b/lib/python3.6/site-packages/flask/app.py\", line 1832, in full_dispatch_request\n    rv = self.dispatch_request()\n  File \"/azureml-envs/azureml_84c85d362f11658b9008714e1aa4657b/lib/python3.6/site-packages/flask/app.py\", line 1818, in dispatch_request\n    return self.view_functions[rule.endpoint](**req.view_args)\n  File \"/var/azureml-server/synchronous/routes.py\", line 44, in score_realtime\n    return run_scoring(service_input, request.headers, request.environ.get('REQUEST_ID', '00000000-0000-0000-0000-000000000000'))\n  File \"/var/azureml-server/synchronous/routes.py\", line 74, in run_scoring\n    raise RunFunctionException(str(exc))\nrun_function_exception.RunFunctionException\n\n2022-01-05 01:12:47,490 | root | INFO | 500\n127.0.0.1 - - [05/Jan/2022:01:12:47 +0000] \"POST /score?verbose=true HTTP/1.0\" 500 6 \"-\" \"Go-http-client/1.1\"\n2022-01-05 01:12:49,984 | root | INFO | Validation Request Content-Type\n2022-01-05 01:12:49,985 | root | ERROR | Encountered Exception: Traceback (most recent call last):\n  File \"/var/azureml-server/synchronous/routes.py\", line 65, in run_scoring\n    response, time_taken_ms = invoke_user_with_timer(service_input, request_headers)\n  File \"/var/azureml-server/synchronous/routes.py\", line 102, in invoke_user_with_timer\n    params = prepare_user_params(input, headers, aml_request._rawHttpRequested)\n  File \"/var/azureml-server/routes_common.py\", line 132, in prepare_user_params\n    params = {main.run_input_parameter_name: input[main.wrapped_parameter_name]}\nKeyError: 'data'\n\nDuring handling of the above exception, another exception occurred:\n\nTraceback (most recent call last):\n  File \"/azureml-envs/azureml_84c85d362f11658b9008714e1aa4657b/lib/python3.6/site-packages/flask/app.py\", line 1832, in full_dispatch_request\n    rv = self.dispatch_request()\n  File \"/azureml-envs/azureml_84c85d362f11658b9008714e1aa4657b/lib/python3.6/site-packages/flask/app.py\", line 1818, in dispatch_request\n    return self.view_functions[rule.endpoint](**req.view_args)\n  File \"/var/azureml-server/synchronous/routes.py\", line 44, in score_realtime\n    return run_scoring(service_input, request.headers, request.environ.get('REQUEST_ID', '00000000-0000-0000-0000-000000000000'))\n  File \"/var/azureml-server/synchronous/routes.py\", line 74, in run_scoring\n    raise RunFunctionException(str(exc))\nrun_function_exception.RunFunctionException\n\n2022-01-05 01:12:49,986 | root | INFO | 500\n127.0.0.1 - - [05/Jan/2022:01:12:49 +0000] \"POST /score?verbose=true HTTP/1.0\" 500 6 \"-\" \"Go-http-client/1.1\"\n2022-01-05 01:12:50,642 | root | INFO | Validation Request Content-Type\n2022-01-05 01:12:50,643 | root | ERROR | Encountered Exception: Traceback (most recent call last):\n  File \"/var/azureml-server/synchronous/routes.py\", line 65, in run_scoring\n    response, time_taken_ms = invoke_user_with_timer(service_input, request_headers)\n  File \"/var/azureml-server/synchronous/routes.py\", line 102, in invoke_user_with_timer\n    params = prepare_user_params(input, headers, aml_request._rawHttpRequested)\n  File \"/var/azureml-server/routes_common.py\", line 132, in prepare_user_params\n    params = {main.run_input_parameter_name: input[main.wrapped_parameter_name]}\nKeyError: 'data'\n\nDuring handling of the above exception, another exception occurred:\n\nTraceback (most recent call last):\n  File \"/azureml-envs/azureml_84c85d362f11658b9008714e1aa4657b/lib/python3.6/site-packages/flask/app.py\", line 1832, in full_dispatch_request\n    rv = self.dispatch_request()\n  File \"/azureml-envs/azureml_84c85d362f11658b9008714e1aa4657b/lib/python3.6/site-packages/flask/app.py\", line 1818, in dispatch_request\n    return self.view_functions[rule.endpoint](**req.view_args)\n  File \"/var/azureml-server/synchronous/routes.py\", line 44, in score_realtime\n    return run_scoring(service_input, request.headers, request.environ.get('REQUEST_ID', '00000000-0000-0000-0000-000000000000'))\n  File \"/var/azureml-server/synchronous/routes.py\", line 74, in run_scoring\n    raise RunFunctionException(str(exc))\nrun_function_exception.RunFunctionException\n\n2022-01-05 01:12:50,644 | root | INFO | 500\n127.0.0.1 - - [05/Jan/2022:01:12:50 +0000] \"POST /score?verbose=true HTTP/1.0\" 500 6 \"-\" \"Go-http-client/1.1\"\n2022-01-05 01:12:51,796 | root | INFO | Validation Request Content-Type\n2022-01-05 01:12:51,798 | root | ERROR | Encountered Exception: Traceback (most recent call last):\n  File \"/var/azureml-server/synchronous/routes.py\", line 65, in run_scoring\n    response, time_taken_ms = invoke_user_with_timer(service_input, request_headers)\n  File \"/var/azureml-server/synchronous/routes.py\", line 102, in invoke_user_with_timer\n    params = prepare_user_params(input, headers, aml_request._rawHttpRequested)\n  File \"/var/azureml-server/routes_common.py\", line 132, in prepare_user_params\n    params = {main.run_input_parameter_name: input[main.wrapped_parameter_name]}\nKeyError: 'data'\n\nDuring handling of the above exception, another exception occurred:\n\nTraceback (most recent call last):\n  File \"/azureml-envs/azureml_84c85d362f11658b9008714e1aa4657b/lib/python3.6/site-packages/flask/app.py\", line 1832, in full_dispatch_request\n    rv = self.dispatch_request()\n  File \"/azureml-envs/azureml_84c85d362f11658b9008714e1aa4657b/lib/python3.6/site-packages/flask/app.py\", line 1818, in dispatch_request\n    return self.view_functions[rule.endpoint](**req.view_args)\n  File \"/var/azureml-server/synchronous/routes.py\", line 44, in score_realtime\n    return run_scoring(service_input, request.headers, request.environ.get('REQUEST_ID', '00000000-0000-0000-0000-000000000000'))\n  File \"/var/azureml-server/synchronous/routes.py\", line 74, in run_scoring\n    raise RunFunctionException(str(exc))\nrun_function_exception.RunFunctionException\n\n2022-01-05 01:12:51,798 | root | INFO | 500\n127.0.0.1 - - [05/Jan/2022:01:12:51 +0000] \"POST /score?verbose=true HTTP/1.0\" 500 6 \"-\" \"Go-http-client/1.1\"\n2022-01-05 01:12:51,920 | root | INFO | Validation Request Content-Type\n2022-01-05 01:12:51,921 | root | ERROR | Encountered Exception: Traceback (most recent call last):\n  File \"/var/azureml-server/synchronous/routes.py\", line 65, in run_scoring\n    response, time_taken_ms = invoke_user_with_timer(service_input, request_headers)\n  File \"/var/azureml-server/synchronous/routes.py\", line 102, in invoke_user_with_timer\n    params = prepare_user_params(input, headers, aml_request._rawHttpRequested)\n  File \"/var/azureml-server/routes_common.py\", line 132, in prepare_user_params\n    params = {main.run_input_parameter_name: input[main.wrapped_parameter_name]}\nKeyError: 'data'\n\nDuring handling of the above exception, another exception occurred:\n\nTraceback (most recent call last):\n  File \"/azureml-envs/azureml_84c85d362f11658b9008714e1aa4657b/lib/python3.6/site-packages/flask/app.py\", line 1832, in full_dispatch_request\n    rv = self.dispatch_request()\n  File \"/azureml-envs/azureml_84c85d362f11658b9008714e1aa4657b/lib/python3.6/site-packages/flask/app.py\", line 1818, in dispatch_request\n    return self.view_functions[rule.endpoint](**req.view_args)\n  File \"/var/azureml-server/synchronous/routes.py\", line 44, in score_realtime\n    return run_scoring(service_input, request.headers, request.environ.get('REQUEST_ID', '00000000-0000-0000-0000-000000000000'))\n  File \"/var/azureml-server/synchronous/routes.py\", line 74, in run_scoring\n    raise RunFunctionException(str(exc))\nrun_function_exception.RunFunctionException\n\n2022-01-05 01:12:51,921 | root | INFO | 500\n127.0.0.1 - - [05/Jan/2022:01:12:51 +0000] \"POST /score?verbose=true HTTP/1.0\" 500 6 \"-\" \"Go-http-client/1.1\"\n2022-01-05 01:12:54,085 | root | INFO | Validation Request Content-Type\n2022-01-05 01:12:54,087 | root | ERROR | Encountered Exception: Traceback (most recent call last):\n  File \"/var/azureml-server/synchronous/routes.py\", line 65, in run_scoring\n    response, time_taken_ms = invoke_user_with_timer(service_input, request_headers)\n  File \"/var/azureml-server/synchronous/routes.py\", line 102, in invoke_user_with_timer\n    params = prepare_user_params(input, headers, aml_request._rawHttpRequested)\n  File \"/var/azureml-server/routes_common.py\", line 132, in prepare_user_params\n    params = {main.run_input_parameter_name: input[main.wrapped_parameter_name]}\nKeyError: 'data'\n\nDuring handling of the above exception, another exception occurred:\n\nTraceback (most recent call last):\n  File \"/azureml-envs/azureml_84c85d362f11658b9008714e1aa4657b/lib/python3.6/site-packages/flask/app.py\", line 1832, in full_dispatch_request\n    rv = self.dispatch_request()\n  File \"/azureml-envs/azureml_84c85d362f11658b9008714e1aa4657b/lib/python3.6/site-packages/flask/app.py\", line 1818, in dispatch_request\n    return self.view_functions[rule.endpoint](**req.view_args)\n  File \"/var/azureml-server/synchronous/routes.py\", line 44, in score_realtime\n    return run_scoring(service_input, request.headers, request.environ.get('REQUEST_ID', '00000000-0000-0000-0000-000000000000'))\n  File \"/var/azureml-server/synchronous/routes.py\", line 74, in run_scoring\n    raise RunFunctionException(str(exc))\nrun_function_exception.RunFunctionException\n\n2022-01-05 01:12:54,088 | root | INFO | 500\n127.0.0.1 - - [05/Jan/2022:01:12:54 +0000] \"POST /score?verbose=true HTTP/1.0\" 500 6 \"-\" \"Go-http-client/1.1\"\n2022-01-05 01:12:58,264 | root | INFO | Validation Request Content-Type\n2022-01-05 01:12:58,264 | root | ERROR | Encountered Exception: Traceback (most recent call last):\n  File \"/var/azureml-server/synchronous/routes.py\", line 65, in run_scoring\n    response, time_taken_ms = invoke_user_with_timer(service_input, request_headers)\n  File \"/var/azureml-server/synchronous/routes.py\", line 102, in invoke_user_with_timer\n    params = prepare_user_params(input, headers, aml_request._rawHttpRequested)\n  File \"/var/azureml-server/routes_common.py\", line 132, in prepare_user_params\n    params = {main.run_input_parameter_name: input[main.wrapped_parameter_name]}\nKeyError: 'data'\n\nDuring handling of the above exception, another exception occurred:\n\nTraceback (most recent call last):\n  File \"/azureml-envs/azureml_84c85d362f11658b9008714e1aa4657b/lib/python3.6/site-packages/flask/app.py\", line 1832, in full_dispatch_request\n    rv = self.dispatch_request()\n  File \"/azureml-envs/azureml_84c85d362f11658b9008714e1aa4657b/lib/python3.6/site-packages/flask/app.py\", line 1818, in dispatch_request\n    return self.view_functions[rule.endpoint](**req.view_args)\n  File \"/var/azureml-server/synchronous/routes.py\", line 44, in score_realtime\n    return run_scoring(service_input, request.headers, request.environ.get('REQUEST_ID', '00000000-0000-0000-0000-000000000000'))\n  File \"/var/azureml-server/synchronous/routes.py\", line 74, in run_scoring\n    raise RunFunctionException(str(exc))\nrun_function_exception.RunFunctionException\n\n2022-01-05 01:12:58,265 | root | INFO | 500\n127.0.0.1 - - [05/Jan/2022:01:12:58 +0000] \"POST /score?verbose=true HTTP/1.0\" 500 6 \"-\" \"Go-http-client/1.1\"\n2022-01-05 01:13:00,024 | root | INFO | Validation Request Content-Type\n2022-01-05 01:13:00,024 | root | ERROR | Encountered Exception: Traceback (most recent call last):\n  File \"/var/azureml-server/synchronous/routes.py\", line 65, in run_scoring\n    response, time_taken_ms = invoke_user_with_timer(service_input, request_headers)\n  File \"/var/azureml-server/synchronous/routes.py\", line 102, in invoke_user_with_timer\n    params = prepare_user_params(input, headers, aml_request._rawHttpRequested)\n  File \"/var/azureml-server/routes_common.py\", line 132, in prepare_user_params\n    params = {main.run_input_parameter_name: input[main.wrapped_parameter_name]}\nKeyError: 'data'\n\nDuring handling of the above exception, another exception occurred:\n\nTraceback (most recent call last):\n  File \"/azureml-envs/azureml_84c85d362f11658b9008714e1aa4657b/lib/python3.6/site-packages/flask/app.py\", line 1832, in full_dispatch_request\n    rv = self.dispatch_request()\n  File \"/azureml-envs/azureml_84c85d362f11658b9008714e1aa4657b/lib/python3.6/site-packages/flask/app.py\", line 1818, in dispatch_request\n    return self.view_functions[rule.endpoint](**req.view_args)\n  File \"/var/azureml-server/synchronous/routes.py\", line 44, in score_realtime\n    return run_scoring(service_input, request.headers, request.environ.get('REQUEST_ID', '00000000-0000-0000-0000-000000000000'))\n  File \"/var/azureml-server/synchronous/routes.py\", line 74, in run_scoring\n    raise RunFunctionException(str(exc))\nrun_function_exception.RunFunctionException\n\n2022-01-05 01:13:00,025 | root | INFO | 500\n127.0.0.1 - - [05/Jan/2022:01:13:00 +0000] \"POST /score?verbose=true HTTP/1.0\" 500 6 \"-\" \"Go-http-client/1.1\"\n2022-01-05 01:13:06,410 | root | INFO | Validation Request Content-Type\n2022-01-05 01:13:06,411 | root | ERROR | Encountered Exception: Traceback (most recent call last):\n  File \"/var/azureml-server/synchronous/routes.py\", line 65, in run_scoring\n    response, time_taken_ms = invoke_user_with_timer(service_input, request_headers)\n  File \"/var/azureml-server/synchronous/routes.py\", line 102, in invoke_user_with_timer\n    params = prepare_user_params(input, headers, aml_request._rawHttpRequested)\n  File \"/var/azureml-server/routes_common.py\", line 132, in prepare_user_params\n    params = {main.run_input_parameter_name: input[main.wrapped_parameter_name]}\nKeyError: 'data'\n\nDuring handling of the above exception, another exception occurred:\n\nTraceback (most recent call last):\n  File \"/azureml-envs/azureml_84c85d362f11658b9008714e1aa4657b/lib/python3.6/site-packages/flask/app.py\", line 1832, in full_dispatch_request\n    rv = self.dispatch_request()\n  File \"/azureml-envs/azureml_84c85d362f11658b9008714e1aa4657b/lib/python3.6/site-packages/flask/app.py\", line 1818, in dispatch_request\n    return self.view_functions[rule.endpoint](**req.view_args)\n  File \"/var/azureml-server/synchronous/routes.py\", line 44, in score_realtime\n    return run_scoring(service_input, request.headers, request.environ.get('REQUEST_ID', '00000000-0000-0000-0000-000000000000'))\n  File \"/var/azureml-server/synchronous/routes.py\", line 74, in run_scoring\n    raise RunFunctionException(str(exc))\nrun_function_exception.RunFunctionException\n\n2022-01-05 01:13:06,411 | root | INFO | 500\n127.0.0.1 - - [05/Jan/2022:01:13:06 +0000] \"POST /score?verbose=true HTTP/1.0\" 500 6 \"-\" \"Go-http-client/1.1\"\n2022-01-05 01:13:20,065 | root | INFO | 200\n127.0.0.1 - - [05/Jan/2022:01:13:20 +0000] \"GET /swagger.json HTTP/1.0\" 200 3071 \"-\" \"Go-http-client/1.1\"\n2022-01-05 01:13:45,994 | root | INFO | 200\n127.0.0.1 - - [05/Jan/2022:01:13:45 +0000] \"GET /swagger.json HTTP/1.0\" 200 3071 \"-\" \"Go-http-client/1.1\"\n2022-01-05 01:13:55,022 | root | INFO | Validation Request Content-Type\n2022-01-05 01:13:55,023 | root | INFO | Scoring Timer is set to 60.0 seconds\n2022-01-05 01:13:55,208 | root | INFO | 200\n127.0.0.1 - - [05/Jan/2022:01:13:55 +0000] \"POST /score?verbose=true HTTP/1.0\" 200 19 \"-\" \"Go-http-client/1.1\"\n2022-01-05 01:16:30,765 | root | INFO | Validation Request Content-Type\n2022-01-05 01:16:30,766 | root | INFO | Scoring Timer is set to 60.0 seconds\n2022-01-05 01:16:30,902 | root | INFO | 200\n127.0.0.1 - - [05/Jan/2022:01:16:30 +0000] \"POST /score?verbose=true HTTP/1.0\" 200 19 \"-\" \"Go-http-client/1.1\"\n2022-01-05 01:16:38,231 | root | INFO | Validation Request Content-Type\n2022-01-05 01:16:38,232 | root | INFO | Scoring Timer is set to 60.0 seconds\n2022-01-05 01:16:38,372 | root | INFO | 200\n127.0.0.1 - - [05/Jan/2022:01:16:38 +0000] \"POST /score?verbose=true HTTP/1.0\" 200 19 \"-\" \"Go-http-client/1.1\"\n2022-01-05 01:16:45,602 | root | INFO | Validation Request Content-Type\n2022-01-05 01:16:45,603 | root | INFO | Scoring Timer is set to 60.0 seconds\n2022-01-05 01:16:45,743 | root | INFO | 200\n127.0.0.1 - - [05/Jan/2022:01:16:45 +0000] \"POST /score?verbose=true HTTP/1.0\" 200 19 \"-\" \"Go-http-client/1.1\"\n2022-01-05 01:17:41,595 | root | INFO | Validation Request Content-Type\n2022-01-05 01:17:41,597 | root | INFO | Scoring Timer is set to 60.0 seconds\n2022-01-05 01:17:41,738 | root | INFO | 200\n127.0.0.1 - - [05/Jan/2022:01:17:41 +0000] \"POST /score HTTP/1.0\" 200 19 \"-\" \"python-requests/2.26.0\"\n2022-01-05 01:28:54,288 | root | INFO | Validation Request Content-Type\n2022-01-05 01:28:54,290 | root | INFO | Scoring Timer is set to 60.0 seconds\n2022-01-05 01:28:54,455 | root | INFO | 200\n127.0.0.1 - - [05/Jan/2022:01:28:54 +0000] \"POST /score HTTP/1.0\" 200 19 \"-\" \"python-requests/2.26.0\"\n2022-01-05 01:29:54,559 | root | INFO | Validation Request Content-Type\n2022-01-05 01:29:54,560 | root | INFO | Scoring Timer is set to 60.0 seconds\n2022-01-05 01:29:54,705 | root | INFO | 200\n127.0.0.1 - - [05/Jan/2022:01:29:54 +0000] \"POST /score HTTP/1.0\" 200 19 \"-\" \"python-requests/2.26.0\"\n\n"
        }
      ],
      "execution_count": 35,
      "metadata": {
        "jupyter": {
          "outputs_hidden": false,
          "source_hidden": false
        },
        "nteract": {
          "transient": {
            "deleting": false
          }
        },
        "gather": {
          "logged": 1641346412488
        }
      }
    },
    {
      "cell_type": "markdown",
      "source": [
        "**Submission Checklist**\n",
        "- I have registered the model.\n",
        "- I have deployed the model with the best accuracy as a webservice.\n",
        "- I have tested the webservice by sending a request to the model endpoint.\n",
        "- I have deleted the webservice and shutdown all the computes that I have used.\n",
        "- I have taken a screenshot showing the model endpoint as active.\n",
        "- The project includes a file containing the environment details.\n"
      ],
      "metadata": {}
    },
    {
      "cell_type": "markdown",
      "source": [],
      "metadata": {}
    }
  ],
  "metadata": {
    "kernel_info": {
      "name": "python3"
    },
    "kernelspec": {
      "name": "python3",
      "language": "python",
      "display_name": "Python 3"
    },
    "language_info": {
      "name": "python",
      "version": "3.6.9",
      "mimetype": "text/x-python",
      "codemirror_mode": {
        "name": "ipython",
        "version": 3
      },
      "pygments_lexer": "ipython3",
      "nbconvert_exporter": "python",
      "file_extension": ".py"
    },
    "nteract": {
      "version": "nteract-front-end@1.0.0"
    },
    "microsoft": {
      "host": {
        "AzureML": {
          "notebookHasBeenCompleted": true
        }
      }
    }
  },
  "nbformat": 4,
  "nbformat_minor": 2
}